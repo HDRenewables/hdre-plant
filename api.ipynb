{
 "cells": [
  {
   "cell_type": "markdown",
   "metadata": {},
   "source": []
  },
  {
   "cell_type": "code",
   "execution_count": 160,
   "metadata": {},
   "outputs": [],
   "source": [
    "'''\n",
    "Test Plane\n",
    "'''\n",
    "from typing import Optional, Dict, List\n",
    "from pathlib import Path\n",
    "import requests\n",
    "import json\n",
    "import pandas as pd\n",
    "\n",
    "API_KEY = 'iVz55YLEFMa23pZb5Zj095sXOXjTnErj7pZ8SdMs'\n",
    "\n",
    "def getPlantInfo(\n",
    "\n",
    "    file_data=None\n",
    "):\n",
    "    url = 'https://solar-api.hdre.energy/getPlantInfo'\n",
    "    headers = {\n",
    "        'Content-Type': 'application/json',\n",
    "        'x-api-key': API_KEY\n",
    "    }\n",
    "\n",
    "    response = requests.get(url, headers=headers)\n",
    "    return response\n",
    "\n",
    "\n",
    "a = getPlantInfo()\n",
    "\n",
    "def load_pd_from_json(data:Dict, dtypes:Optional[Dict]=None) -> Optional[pd.DataFrame]:\n",
    "    if data:\n",
    "        df = pd.DataFrame(data=data)\n",
    "        if dtypes:\n",
    "            df = df.astype(dtypes)\n",
    "        df = df.replace({pd.NA: None, pd.NaT: None})\n",
    "        return df\n",
    "    return None"
   ]
  },
  {
   "cell_type": "code",
   "execution_count": 161,
   "metadata": {},
   "outputs": [
    {
     "data": {
      "text/plain": [
       "['T18A17R302',\n",
       " 'T19A17R302',\n",
       " 'T19A28G101',\n",
       " 'T19A61G101',\n",
       " 'T20A17G301',\n",
       " 'T20A60G101',\n",
       " 'T20A62G101',\n",
       " 'T20A65G101']"
      ]
     },
     "metadata": {},
     "output_type": "display_data"
    },
    {
     "data": {
      "text/plain": [
       "['泓德', '方登綠能(星泓)', '大福(星泓)', '中鈁綠能(星泓)', '仁華綠能(星泓)', '茂泓(星泓)']"
      ]
     },
     "execution_count": 161,
     "metadata": {},
     "output_type": "execute_result"
    }
   ],
   "source": [
    "data = a.content\n",
    "\n",
    "# 解码JSON数据\n",
    "decoded_data = data.decode('unicode-escape')\n",
    "\n",
    "# 转换为Python对象\n",
    "parsed_data = json.loads(decoded_data)\n",
    "df = pd.DataFrame(parsed_data)\n",
    "\n",
    "plane_list = df['plantNo'].unique().tolist()\n",
    "display(plane_list)\n",
    "\n",
    "ownerName_list = df['ownerName'].unique().tolist()\n",
    "ownerName_list "
   ]
  },
  {
   "cell_type": "code",
   "execution_count": 162,
   "metadata": {},
   "outputs": [
    {
     "data": {
      "text/plain": [
       "'\\nplantNo\\n\\ntimeFrom\\n\\n起始時間 yyyy-MM-dd HH:mm:SS\\n'"
      ]
     },
     "execution_count": 162,
     "metadata": {},
     "output_type": "execute_result"
    }
   ],
   "source": [
    "\n",
    "'''\n",
    "plantNo\n",
    "\n",
    "timeFrom\n",
    "\n",
    "起始時間 yyyy-MM-dd HH:mm:SS\n",
    "'''"
   ]
  },
  {
   "cell_type": "code",
   "execution_count": 163,
   "metadata": {},
   "outputs": [],
   "source": [
    "def getPlantHour(\n",
    "    plantNo: str,\n",
    "    timeTo: str,\n",
    "    timeFrom: str ,\n",
    "):\n",
    "    url = 'https://solar-api.hdre.energy/getPlantHourly'\n",
    "    headers = {\n",
    "        'Content-Type': 'application/json',\n",
    "        'x-api-key': API_KEY\n",
    "    }\n",
    "    params = {\n",
    "    \"plantNo\": plantNo,\n",
    "    \"timeTo\": timeTo,\n",
    "    \"timeFrom\": timeFrom\n",
    "    }\n",
    "\n",
    "    response = requests.get(url,  params=params,headers=headers)\n",
    "    return response\n",
    "\n",
    "plant_no = \"T20A65G101\"\n",
    "time_to = \"2023-06-01 00:00:00\"\n",
    "time_from = \"2023-05-01 00:00:00\"\n",
    "b = getPlantHour(plant_no,time_to,time_from)"
   ]
  },
  {
   "cell_type": "code",
   "execution_count": 164,
   "metadata": {},
   "outputs": [
    {
     "data": {
      "text/plain": [
       "formatted_periodTime     object\n",
       "intervalAcKwh           float64\n",
       "dtype: object"
      ]
     },
     "execution_count": 164,
     "metadata": {},
     "output_type": "execute_result"
    }
   ],
   "source": [
    "date_range = pd.date_range(start=time_from, end=time_to, freq='H')\n",
    "\n",
    "# 創建 DataFrame\n",
    "df2 = pd.DataFrame({\"formatted_periodTime\": date_range})\n",
    "\n",
    "# 如果需要將 timestamp 列格式化為字串，可以使用以下代碼\n",
    "df2[\"formatted_periodTime\"] = df2[\"formatted_periodTime\"].dt.strftime(\"%Y/%m/%d %H:%M:%S\")\n",
    "df2['intervalAcKwh'] = 0.0\n",
    "df2.dtypes\n"
   ]
  },
  {
   "cell_type": "code",
   "execution_count": 165,
   "metadata": {},
   "outputs": [],
   "source": [
    "data = b.content\n",
    "decoded_data = data.decode('unicode-escape')\n",
    "\n",
    "# 转换为Python对象\n",
    "parsed_data = json.loads(decoded_data)\n",
    "#df = pd.DataFrame(parsed_data)\n",
    "#df['data'][0]"
   ]
  },
  {
   "cell_type": "code",
   "execution_count": 166,
   "metadata": {},
   "outputs": [
    {
     "data": {
      "text/html": [
       "<div>\n",
       "<style scoped>\n",
       "    .dataframe tbody tr th:only-of-type {\n",
       "        vertical-align: middle;\n",
       "    }\n",
       "\n",
       "    .dataframe tbody tr th {\n",
       "        vertical-align: top;\n",
       "    }\n",
       "\n",
       "    .dataframe thead th {\n",
       "        text-align: right;\n",
       "    }\n",
       "</style>\n",
       "<table border=\"1\" class=\"dataframe\">\n",
       "  <thead>\n",
       "    <tr style=\"text-align: right;\">\n",
       "      <th></th>\n",
       "      <th>periodTime</th>\n",
       "      <th>intervalAcKwh</th>\n",
       "      <th>avgPower</th>\n",
       "      <th>avgRadiation</th>\n",
       "      <th>prRate</th>\n",
       "    </tr>\n",
       "  </thead>\n",
       "  <tbody>\n",
       "    <tr>\n",
       "      <th>0</th>\n",
       "      <td>2023-05-01T06:00:00+08:00</td>\n",
       "      <td>1899.29</td>\n",
       "      <td>0.09</td>\n",
       "      <td>0.0904</td>\n",
       "      <td>0.9925</td>\n",
       "    </tr>\n",
       "    <tr>\n",
       "      <th>1</th>\n",
       "      <td>2023-05-01T07:00:00+08:00</td>\n",
       "      <td>5692.90</td>\n",
       "      <td>0.27</td>\n",
       "      <td>0.2759</td>\n",
       "      <td>0.9748</td>\n",
       "    </tr>\n",
       "    <tr>\n",
       "      <th>2</th>\n",
       "      <td>2023-05-01T08:00:00+08:00</td>\n",
       "      <td>9935.51</td>\n",
       "      <td>0.47</td>\n",
       "      <td>0.4937</td>\n",
       "      <td>0.9507</td>\n",
       "    </tr>\n",
       "    <tr>\n",
       "      <th>3</th>\n",
       "      <td>2023-05-01T09:00:00+08:00</td>\n",
       "      <td>12758.70</td>\n",
       "      <td>0.60</td>\n",
       "      <td>0.6609</td>\n",
       "      <td>0.9120</td>\n",
       "    </tr>\n",
       "    <tr>\n",
       "      <th>4</th>\n",
       "      <td>2023-05-01T10:00:00+08:00</td>\n",
       "      <td>14700.79</td>\n",
       "      <td>0.69</td>\n",
       "      <td>0.7700</td>\n",
       "      <td>0.9019</td>\n",
       "    </tr>\n",
       "    <tr>\n",
       "      <th>...</th>\n",
       "      <td>...</td>\n",
       "      <td>...</td>\n",
       "      <td>...</td>\n",
       "      <td>...</td>\n",
       "      <td>...</td>\n",
       "    </tr>\n",
       "    <tr>\n",
       "      <th>429</th>\n",
       "      <td>2023-05-31T15:00:00+08:00</td>\n",
       "      <td>8967.30</td>\n",
       "      <td>0.42</td>\n",
       "      <td>0.4380</td>\n",
       "      <td>0.9672</td>\n",
       "    </tr>\n",
       "    <tr>\n",
       "      <th>430</th>\n",
       "      <td>2023-05-31T16:00:00+08:00</td>\n",
       "      <td>2913.33</td>\n",
       "      <td>0.14</td>\n",
       "      <td>0.1572</td>\n",
       "      <td>0.8755</td>\n",
       "    </tr>\n",
       "    <tr>\n",
       "      <th>431</th>\n",
       "      <td>2023-05-31T17:00:00+08:00</td>\n",
       "      <td>1380.43</td>\n",
       "      <td>0.07</td>\n",
       "      <td>0.0671</td>\n",
       "      <td>0.9719</td>\n",
       "    </tr>\n",
       "    <tr>\n",
       "      <th>432</th>\n",
       "      <td>2023-05-31T18:00:00+08:00</td>\n",
       "      <td>203.12</td>\n",
       "      <td>0.01</td>\n",
       "      <td>0.0122</td>\n",
       "      <td>0.7865</td>\n",
       "    </tr>\n",
       "    <tr>\n",
       "      <th>433</th>\n",
       "      <td>2023-05-31T19:00:00+08:00</td>\n",
       "      <td>0.00</td>\n",
       "      <td>0.00</td>\n",
       "      <td>0.0000</td>\n",
       "      <td>0.0000</td>\n",
       "    </tr>\n",
       "  </tbody>\n",
       "</table>\n",
       "<p>434 rows × 5 columns</p>\n",
       "</div>"
      ],
      "text/plain": [
       "                    periodTime  intervalAcKwh  avgPower  avgRadiation  prRate\n",
       "0    2023-05-01T06:00:00+08:00        1899.29      0.09        0.0904  0.9925\n",
       "1    2023-05-01T07:00:00+08:00        5692.90      0.27        0.2759  0.9748\n",
       "2    2023-05-01T08:00:00+08:00        9935.51      0.47        0.4937  0.9507\n",
       "3    2023-05-01T09:00:00+08:00       12758.70      0.60        0.6609  0.9120\n",
       "4    2023-05-01T10:00:00+08:00       14700.79      0.69        0.7700  0.9019\n",
       "..                         ...            ...       ...           ...     ...\n",
       "429  2023-05-31T15:00:00+08:00        8967.30      0.42        0.4380  0.9672\n",
       "430  2023-05-31T16:00:00+08:00        2913.33      0.14        0.1572  0.8755\n",
       "431  2023-05-31T17:00:00+08:00        1380.43      0.07        0.0671  0.9719\n",
       "432  2023-05-31T18:00:00+08:00         203.12      0.01        0.0122  0.7865\n",
       "433  2023-05-31T19:00:00+08:00           0.00      0.00        0.0000  0.0000\n",
       "\n",
       "[434 rows x 5 columns]"
      ]
     },
     "metadata": {},
     "output_type": "display_data"
    },
    {
     "data": {
      "text/plain": [
       "periodTime               object\n",
       "intervalAcKwh           float64\n",
       "avgPower                float64\n",
       "avgRadiation            float64\n",
       "prRate                  float64\n",
       "formatted_periodTime     object\n",
       "dtype: object"
      ]
     },
     "execution_count": 166,
     "metadata": {},
     "output_type": "execute_result"
    }
   ],
   "source": [
    "'''\n",
    "兩層dataframe強轉\n",
    "'''\n",
    "data = b.json()\n",
    "df = pd.DataFrame(data)\n",
    "df1 = pd.DataFrame(df.data[0])\n",
    "display(df1)\n",
    "\n",
    "from datetime import datetime, timezone, timedelta\n",
    "\n",
    "def convert_period_time(row):\n",
    "    original_datetime = datetime.fromisoformat(row[\"periodTime\"])\n",
    "    original_datetime_utc = original_datetime.astimezone(timezone.utc)\n",
    "    adjusted_datetime = original_datetime_utc.astimezone(timezone(timedelta(hours=8)))\n",
    "    formatted_date_string = adjusted_datetime.strftime(\"%Y/%m/%d %H:%M:%S\")\n",
    "    return formatted_date_string\n",
    "\n",
    "# 將函數應用到 periodTime 列\n",
    "df1[\"formatted_periodTime\"] = df1.apply(convert_period_time, axis=1)\n",
    "df1.dtypes"
   ]
  },
  {
   "cell_type": "code",
   "execution_count": 167,
   "metadata": {},
   "outputs": [
    {
     "name": "stdout",
     "output_type": "stream",
     "text": [
      "[{'ownerName': '茂泓(星泓)', 'plantNo': 'T20A65G101', 'plantName': '茂泓電業-21167.9KWp', 'capacity': 21167.9, 'on_grid_date': '2022-01-17', 'city': '臺南市', 'latitude': 23.272418, 'longitude': 120.139361, 'data': [{'periodTime': '2023-05-01T06:00:00+08:00', 'intervalAcKwh': 1899.29, 'avgPower': 0.09, 'avgRadiation': 0.0904, 'prRate': 0.9925}, {'periodTime': '2023-05-01T07:00:00+08:00', 'intervalAcKwh': 5692.9, 'avgPower': 0.27, 'avgRadiation': 0.2759, 'prRate': 0.9748}, {'periodTime': '2023-05-01T08:00:00+08:00', 'intervalAcKwh': 9935.51, 'avgPower': 0.47, 'avgRadiation': 0.4937, 'prRate': 0.9507}, {'periodTime': '2023-05-01T09:00:00+08:00', 'intervalAcKwh': 12758.7, 'avgPower': 0.6, 'avgRadiation': 0.6609, 'prRate': 0.912}, {'periodTime': '2023-05-01T10:00:00+08:00', 'intervalAcKwh': 14700.79, 'avgPower': 0.69, 'avgRadiation': 0.77, 'prRate': 0.9019}, {'periodTime': '2023-05-01T11:00:00+08:00', 'intervalAcKwh': 16661.03, 'avgPower': 0.79, 'avgRadiation': 0.8862, 'prRate': 0.8882}, {'periodTime': '2023-05-01T12:00:00+08:00', 'intervalAcKwh': 16330.86, 'avgPower': 0.77, 'avgRadiation': 0.8913, 'prRate': 0.8656}, {'periodTime': '2023-05-01T13:00:00+08:00', 'intervalAcKwh': 15127.42, 'avgPower': 0.71, 'avgRadiation': 0.804, 'prRate': 0.8889}, {'periodTime': '2023-05-01T14:00:00+08:00', 'intervalAcKwh': 12992.99, 'avgPower': 0.61, 'avgRadiation': 0.6722, 'prRate': 0.9131}, {'periodTime': '2023-05-01T15:00:00+08:00', 'intervalAcKwh': 8720.91, 'avgPower': 0.41, 'avgRadiation': 0.4433, 'prRate': 0.9294}, {'periodTime': '2023-05-01T16:00:00+08:00', 'intervalAcKwh': 5794.38, 'avgPower': 0.27, 'avgRadiation': 0.3004, 'prRate': 0.9112}, {'periodTime': '2023-05-01T17:00:00+08:00', 'intervalAcKwh': 1538.63, 'avgPower': 0.07, 'avgRadiation': 0.0806, 'prRate': 0.9018}, {'periodTime': '2023-05-01T18:00:00+08:00', 'intervalAcKwh': 208.07, 'avgPower': 0.01, 'avgRadiation': 0.0099, 'prRate': 0.9929}, {'periodTime': '2023-05-01T19:00:00+08:00', 'intervalAcKwh': 0.0, 'avgPower': 0.0, 'avgRadiation': 0.0, 'prRate': 0.0}, {'periodTime': '2023-05-02T06:00:00+08:00', 'intervalAcKwh': 1538.1, 'avgPower': 0.07, 'avgRadiation': 0.072, 'prRate': 1.0092}, {'periodTime': '2023-05-02T07:00:00+08:00', 'intervalAcKwh': 5988.41, 'avgPower': 0.28, 'avgRadiation': 0.289, 'prRate': 0.9789}, {'periodTime': '2023-05-02T08:00:00+08:00', 'intervalAcKwh': 10265.69, 'avgPower': 0.48, 'avgRadiation': 0.5139, 'prRate': 0.9437}, {'periodTime': '2023-05-02T09:00:00+08:00', 'intervalAcKwh': 13429.21, 'avgPower': 0.63, 'avgRadiation': 0.6991, 'prRate': 0.9075}, {'periodTime': '2023-05-02T10:00:00+08:00', 'intervalAcKwh': 15634.1, 'avgPower': 0.74, 'avgRadiation': 0.8345, 'prRate': 0.8851}, {'periodTime': '2023-05-02T11:00:00+08:00', 'intervalAcKwh': 16693.99, 'avgPower': 0.79, 'avgRadiation': 0.8976, 'prRate': 0.8786}, {'periodTime': '2023-05-02T12:00:00+08:00', 'intervalAcKwh': 16533.72, 'avgPower': 0.78, 'avgRadiation': 0.8932, 'prRate': 0.8745}, {'periodTime': '2023-05-02T13:00:00+08:00', 'intervalAcKwh': 14749.09, 'avgPower': 0.7, 'avgRadiation': 0.7655, 'prRate': 0.9102}, {'periodTime': '2023-05-02T14:00:00+08:00', 'intervalAcKwh': 13220.01, 'avgPower': 0.62, 'avgRadiation': 0.6932, 'prRate': 0.9009}, {'periodTime': '2023-05-02T15:00:00+08:00', 'intervalAcKwh': 9964.98, 'avgPower': 0.47, 'avgRadiation': 0.529, 'prRate': 0.8899}, {'periodTime': '2023-05-02T16:00:00+08:00', 'intervalAcKwh': 5436.3, 'avgPower': 0.26, 'avgRadiation': 0.2828, 'prRate': 0.9081}, {'periodTime': '2023-05-02T17:00:00+08:00', 'intervalAcKwh': 2459.18, 'avgPower': 0.12, 'avgRadiation': 0.1248, 'prRate': 0.9309}, {'periodTime': '2023-05-02T18:00:00+08:00', 'intervalAcKwh': 168.93, 'avgPower': 0.01, 'avgRadiation': 0.0082, 'prRate': 0.9732}, {'periodTime': '2023-05-02T19:00:00+08:00', 'intervalAcKwh': 0.0, 'avgPower': 0.0, 'avgRadiation': 0.0, 'prRate': 0.0}, {'periodTime': '2023-05-03T06:00:00+08:00', 'intervalAcKwh': 1286.39, 'avgPower': 0.06, 'avgRadiation': 0.056, 'prRate': 1.0852}, {'periodTime': '2023-05-03T07:00:00+08:00', 'intervalAcKwh': 4470.99, 'avgPower': 0.21, 'avgRadiation': 0.2232, 'prRate': 0.9463}, {'periodTime': '2023-05-03T08:00:00+08:00', 'intervalAcKwh': 7290.3, 'avgPower': 0.34, 'avgRadiation': 0.3676, 'prRate': 0.9369}, {'periodTime': '2023-05-03T09:00:00+08:00', 'intervalAcKwh': 12343.3, 'avgPower': 0.58, 'avgRadiation': 0.6502, 'prRate': 0.8968}, {'periodTime': '2023-05-03T10:00:00+08:00', 'intervalAcKwh': 15366.3, 'avgPower': 0.73, 'avgRadiation': 0.8257, 'prRate': 0.8792}, {'periodTime': '2023-05-03T11:00:00+08:00', 'intervalAcKwh': 15460.71, 'avgPower': 0.73, 'avgRadiation': 0.824, 'prRate': 0.8864}, {'periodTime': '2023-05-03T12:00:00+08:00', 'intervalAcKwh': 16120.3, 'avgPower': 0.76, 'avgRadiation': 0.8836, 'prRate': 0.8619}, {'periodTime': '2023-05-03T13:00:00+08:00', 'intervalAcKwh': 13149.21, 'avgPower': 0.62, 'avgRadiation': 0.7091, 'prRate': 0.876}, {'periodTime': '2023-05-03T14:00:00+08:00', 'intervalAcKwh': 13185.98, 'avgPower': 0.62, 'avgRadiation': 0.7005, 'prRate': 0.8893}, {'periodTime': '2023-05-03T15:00:00+08:00', 'intervalAcKwh': 6897.82, 'avgPower': 0.33, 'avgRadiation': 0.3525, 'prRate': 0.9244}, {'periodTime': '2023-05-03T16:00:00+08:00', 'intervalAcKwh': 3731.9, 'avgPower': 0.18, 'avgRadiation': 0.1893, 'prRate': 0.9313}, {'periodTime': '2023-05-03T17:00:00+08:00', 'intervalAcKwh': 1851.51, 'avgPower': 0.09, 'avgRadiation': 0.0945, 'prRate': 0.9256}, {'periodTime': '2023-05-03T18:00:00+08:00', 'intervalAcKwh': 155.29, 'avgPower': 0.01, 'avgRadiation': 0.0064, 'prRate': 1.1463}, {'periodTime': '2023-05-03T19:00:00+08:00', 'intervalAcKwh': 0.0, 'avgPower': 0.0, 'avgRadiation': 0.0, 'prRate': 0.0}, {'periodTime': '2023-05-04T06:00:00+08:00', 'intervalAcKwh': 2120.92, 'avgPower': 0.1, 'avgRadiation': 0.1044, 'prRate': 0.9597}, {'periodTime': '2023-05-04T07:00:00+08:00', 'intervalAcKwh': 6362.89, 'avgPower': 0.3, 'avgRadiation': 0.3066, 'prRate': 0.9804}, {'periodTime': '2023-05-04T08:00:00+08:00', 'intervalAcKwh': 10547.81, 'avgPower': 0.5, 'avgRadiation': 0.5362, 'prRate': 0.9293}, {'periodTime': '2023-05-04T09:00:00+08:00', 'intervalAcKwh': 13537.17, 'avgPower': 0.64, 'avgRadiation': 0.7162, 'prRate': 0.8929}, {'periodTime': '2023-05-04T10:00:00+08:00', 'intervalAcKwh': 15593.91, 'avgPower': 0.74, 'avgRadiation': 0.8494, 'prRate': 0.8673}, {'periodTime': '2023-05-04T11:00:00+08:00', 'intervalAcKwh': 16608.9, 'avgPower': 0.78, 'avgRadiation': 0.9064, 'prRate': 0.8657}, {'periodTime': '2023-05-04T12:00:00+08:00', 'intervalAcKwh': 16728.13, 'avgPower': 0.79, 'avgRadiation': 0.9194, 'prRate': 0.8595}, {'periodTime': '2023-05-04T13:00:00+08:00', 'intervalAcKwh': 15530.59, 'avgPower': 0.73, 'avgRadiation': 0.8577, 'prRate': 0.8554}, {'periodTime': '2023-05-04T14:00:00+08:00', 'intervalAcKwh': 13559.11, 'avgPower': 0.64, 'avgRadiation': 0.735, 'prRate': 0.8715}, {'periodTime': '2023-05-04T15:00:00+08:00', 'intervalAcKwh': 10435.58, 'avgPower': 0.49, 'avgRadiation': 0.5544, 'prRate': 0.8892}, {'periodTime': '2023-05-04T16:00:00+08:00', 'intervalAcKwh': 6348.03, 'avgPower': 0.3, 'avgRadiation': 0.3353, 'prRate': 0.8944}, {'periodTime': '2023-05-04T17:00:00+08:00', 'intervalAcKwh': 2160.25, 'avgPower': 0.1, 'avgRadiation': 0.1147, 'prRate': 0.8897}, {'periodTime': '2023-05-04T18:00:00+08:00', 'intervalAcKwh': 173.66, 'avgPower': 0.01, 'avgRadiation': 0.0064, 'prRate': 1.2819}, {'periodTime': '2023-05-04T19:00:00+08:00', 'intervalAcKwh': 0.0, 'avgPower': 0.0, 'avgRadiation': 0.0, 'prRate': 0.0}, {'periodTime': '2023-05-05T06:00:00+08:00', 'intervalAcKwh': 2293.29, 'avgPower': 0.11, 'avgRadiation': 0.115, 'prRate': 0.9421}, {'periodTime': '2023-05-05T07:00:00+08:00', 'intervalAcKwh': 6668.81, 'avgPower': 0.32, 'avgRadiation': 0.2076, 'prRate': 1.5176}, {'periodTime': '2023-05-05T08:00:00+08:00', 'intervalAcKwh': 10654.11, 'avgPower': 0.5, 'avgRadiation': 0.5477, 'prRate': 0.919}, {'periodTime': '2023-05-05T09:00:00+08:00', 'intervalAcKwh': 12714.28, 'avgPower': 0.6, 'avgRadiation': 0.6268, 'prRate': 0.9583}, {'periodTime': '2023-05-05T10:00:00+08:00', 'intervalAcKwh': 15798.11, 'avgPower': 0.75, 'avgRadiation': 0.87, 'prRate': 0.8578}, {'periodTime': '2023-05-05T11:00:00+08:00', 'intervalAcKwh': 16676.84, 'avgPower': 0.79, 'avgRadiation': 0.9377, 'prRate': 0.8402}, {'periodTime': '2023-05-05T12:00:00+08:00', 'intervalAcKwh': 16637.34, 'avgPower': 0.79, 'avgRadiation': 0.938, 'prRate': 0.8379}, {'periodTime': '2023-05-05T13:00:00+08:00', 'intervalAcKwh': 15600.95, 'avgPower': 0.74, 'avgRadiation': 0.8583, 'prRate': 0.8587}, {'periodTime': '2023-05-05T14:00:00+08:00', 'intervalAcKwh': 13524.97, 'avgPower': 0.64, 'avgRadiation': 0.7376, 'prRate': 0.8662}, {'periodTime': '2023-05-05T15:00:00+08:00', 'intervalAcKwh': 10437.81, 'avgPower': 0.49, 'avgRadiation': 0.5594, 'prRate': 0.8815}, {'periodTime': '2023-05-05T16:00:00+08:00', 'intervalAcKwh': 4851.69, 'avgPower': 0.23, 'avgRadiation': 0.2619, 'prRate': 0.8751}, {'periodTime': '2023-05-05T17:00:00+08:00', 'intervalAcKwh': 1891.8, 'avgPower': 0.09, 'avgRadiation': 0.1069, 'prRate': 0.836}, {'periodTime': '2023-05-05T18:00:00+08:00', 'intervalAcKwh': 88.59, 'avgPower': 0.0, 'avgRadiation': 0.0041, 'prRate': 1.0208}, {'periodTime': '2023-05-05T19:00:00+08:00', 'intervalAcKwh': 0.0, 'avgPower': 0.0, 'avgRadiation': 0.0, 'prRate': 0.0}, {'periodTime': '2023-05-06T06:00:00+08:00', 'intervalAcKwh': 2352.0, 'avgPower': 0.11, 'avgRadiation': 0.1168, 'prRate': 0.9513}, {'periodTime': '2023-05-06T07:00:00+08:00', 'intervalAcKwh': 6751.8, 'avgPower': 0.32, 'avgRadiation': 0.3347, 'prRate': 0.953}, {'periodTime': '2023-05-06T08:00:00+08:00', 'intervalAcKwh': 10645.48, 'avgPower': 0.5, 'avgRadiation': 0.5489, 'prRate': 0.9162}, {'periodTime': '2023-05-06T09:00:00+08:00', 'intervalAcKwh': 13539.64, 'avgPower': 0.64, 'avgRadiation': 0.7288, 'prRate': 0.8776}, {'periodTime': '2023-05-06T10:00:00+08:00', 'intervalAcKwh': 15584.4, 'avgPower': 0.74, 'avgRadiation': 0.8717, 'prRate': 0.8446}, {'periodTime': '2023-05-06T11:00:00+08:00', 'intervalAcKwh': 16550.17, 'avgPower': 0.78, 'avgRadiation': 0.9434, 'prRate': 0.8288}, {'periodTime': '2023-05-06T12:00:00+08:00', 'intervalAcKwh': 16618.42, 'avgPower': 0.79, 'avgRadiation': 0.9402, 'prRate': 0.835}, {'periodTime': '2023-05-06T13:00:00+08:00', 'intervalAcKwh': 15618.01, 'avgPower': 0.74, 'avgRadiation': 0.8732, 'prRate': 0.845}, {'periodTime': '2023-05-06T14:00:00+08:00', 'intervalAcKwh': 13075.39, 'avgPower': 0.62, 'avgRadiation': 0.7002, 'prRate': 0.8822}, {'periodTime': '2023-05-06T15:00:00+08:00', 'intervalAcKwh': 10130.32, 'avgPower': 0.48, 'avgRadiation': 0.5525, 'prRate': 0.8662}, {'periodTime': '2023-05-06T16:00:00+08:00', 'intervalAcKwh': 5933.98, 'avgPower': 0.28, 'avgRadiation': 0.3316, 'prRate': 0.8454}, {'periodTime': '2023-05-06T17:00:00+08:00', 'intervalAcKwh': 1220.46, 'avgPower': 0.06, 'avgRadiation': 0.068, 'prRate': 0.8479}, {'periodTime': '2023-05-06T18:00:00+08:00', 'intervalAcKwh': 98.05, 'avgPower': 0.0, 'avgRadiation': 0.0051, 'prRate': 0.9082}, {'periodTime': '2023-05-06T19:00:00+08:00', 'intervalAcKwh': 0.0, 'avgPower': 0.0, 'avgRadiation': 0.0, 'prRate': 0.0}, {'periodTime': '2023-05-07T06:00:00+08:00', 'intervalAcKwh': 1243.72, 'avgPower': 0.06, 'avgRadiation': 0.0526, 'prRate': 1.117}, {'periodTime': '2023-05-07T07:00:00+08:00', 'intervalAcKwh': 1473.99, 'avgPower': 0.07, 'avgRadiation': 0.0731, 'prRate': 0.9526}, {'periodTime': '2023-05-07T08:00:00+08:00', 'intervalAcKwh': 955.78, 'avgPower': 0.05, 'avgRadiation': 0.0426, 'prRate': 1.0599}, {'periodTime': '2023-05-07T09:00:00+08:00', 'intervalAcKwh': 445.3, 'avgPower': 0.02, 'avgRadiation': 0.019, 'prRate': 1.1072}, {'periodTime': '2023-05-07T10:00:00+08:00', 'intervalAcKwh': 311.91, 'avgPower': 0.01, 'avgRadiation': 0.0172, 'prRate': 0.8567}, {'periodTime': '2023-05-07T11:00:00+08:00', 'intervalAcKwh': 750.72, 'avgPower': 0.04, 'avgRadiation': 0.0315, 'prRate': 1.1259}, {'periodTime': '2023-05-07T12:00:00+08:00', 'intervalAcKwh': 3512.56, 'avgPower': 0.17, 'avgRadiation': 0.159, 'prRate': 1.0436}, {'periodTime': '2023-05-07T13:00:00+08:00', 'intervalAcKwh': 4831.3, 'avgPower': 0.23, 'avgRadiation': 0.2192, 'prRate': 1.0412}, {'periodTime': '2023-05-07T14:00:00+08:00', 'intervalAcKwh': 5323.3, 'avgPower': 0.25, 'avgRadiation': 0.251, 'prRate': 1.0019}, {'periodTime': '2023-05-07T15:00:00+08:00', 'intervalAcKwh': 6547.81, 'avgPower': 0.31, 'avgRadiation': 0.3328, 'prRate': 0.9295}, {'periodTime': '2023-05-07T16:00:00+08:00', 'intervalAcKwh': 1924.63, 'avgPower': 0.09, 'avgRadiation': 0.0968, 'prRate': 0.9393}, {'periodTime': '2023-05-07T17:00:00+08:00', 'intervalAcKwh': 744.77, 'avgPower': 0.04, 'avgRadiation': 0.0353, 'prRate': 0.9967}, {'periodTime': '2023-05-07T18:00:00+08:00', 'intervalAcKwh': 74.99, 'avgPower': 0.0, 'avgRadiation': 0.004, 'prRate': 0.8857}, {'periodTime': '2023-05-07T19:00:00+08:00', 'intervalAcKwh': 0.0, 'avgPower': 0.0, 'avgRadiation': 0.0, 'prRate': 0.0}, {'periodTime': '2023-05-08T06:00:00+08:00', 'intervalAcKwh': 1300.02, 'avgPower': 0.06, 'avgRadiation': 0.0416, 'prRate': 1.4763}, {'periodTime': '2023-05-08T07:00:00+08:00', 'intervalAcKwh': 3019.8, 'avgPower': 0.14, 'avgRadiation': 0.0973, 'prRate': 1.4662}, {'periodTime': '2023-05-08T08:00:00+08:00', 'intervalAcKwh': 7348.98, 'avgPower': 0.35, 'avgRadiation': 0.243, 'prRate': 1.4287}, {'periodTime': '2023-05-08T09:00:00+08:00', 'intervalAcKwh': 13617.63, 'avgPower': 0.64, 'avgRadiation': 0.6382, 'prRate': 1.008}, {'periodTime': '2023-05-08T10:00:00+08:00', 'intervalAcKwh': 14190.99, 'avgPower': 0.67, 'avgRadiation': 0.6685, 'prRate': 1.0028}, {'periodTime': '2023-05-08T11:00:00+08:00', 'intervalAcKwh': 17676.9, 'avgPower': 0.84, 'avgRadiation': 0.9333, 'prRate': 0.8948}, {'periodTime': '2023-05-08T12:00:00+08:00', 'intervalAcKwh': 17363.58, 'avgPower': 0.82, 'avgRadiation': 0.923, 'prRate': 0.8887}, {'periodTime': '2023-05-08T13:00:00+08:00', 'intervalAcKwh': 11973.22, 'avgPower': 0.57, 'avgRadiation': 0.5782, 'prRate': 0.9783}, {'periodTime': '2023-05-08T14:00:00+08:00', 'intervalAcKwh': 7719.68, 'avgPower': 0.36, 'avgRadiation': 0.3668, 'prRate': 0.9942}, {'periodTime': '2023-05-08T15:00:00+08:00', 'intervalAcKwh': 7485.02, 'avgPower': 0.35, 'avgRadiation': 0.3764, 'prRate': 0.9394}, {'periodTime': '2023-05-08T16:00:00+08:00', 'intervalAcKwh': 4856.37, 'avgPower': 0.23, 'avgRadiation': 0.2388, 'prRate': 0.9607}, {'periodTime': '2023-05-08T17:00:00+08:00', 'intervalAcKwh': 1883.29, 'avgPower': 0.09, 'avgRadiation': 0.0977, 'prRate': 0.9106}, {'periodTime': '2023-05-08T18:00:00+08:00', 'intervalAcKwh': 206.53, 'avgPower': 0.01, 'avgRadiation': 0.0108, 'prRate': 0.9034}, {'periodTime': '2023-05-08T19:00:00+08:00', 'intervalAcKwh': 0.0, 'avgPower': 0.0, 'avgRadiation': 0.0, 'prRate': 0.0}, {'periodTime': '2023-05-09T06:00:00+08:00', 'intervalAcKwh': 939.18, 'avgPower': 0.04, 'avgRadiation': 0.0438, 'prRate': 1.013}, {'periodTime': '2023-05-09T07:00:00+08:00', 'intervalAcKwh': 2772.2, 'avgPower': 0.13, 'avgRadiation': 0.1286, 'prRate': 1.0184}, {'periodTime': '2023-05-09T08:00:00+08:00', 'intervalAcKwh': 3910.68, 'avgPower': 0.18, 'avgRadiation': 0.186, 'prRate': 0.9933}, {'periodTime': '2023-05-09T09:00:00+08:00', 'intervalAcKwh': 5598.12, 'avgPower': 0.26, 'avgRadiation': 0.2674, 'prRate': 0.989}, {'periodTime': '2023-05-09T10:00:00+08:00', 'intervalAcKwh': 3091.0, 'avgPower': 0.15, 'avgRadiation': 0.1471, 'prRate': 0.9927}, {'periodTime': '2023-05-09T11:00:00+08:00', 'intervalAcKwh': 4500.2, 'avgPower': 0.21, 'avgRadiation': 0.2032, 'prRate': 1.0462}, {'periodTime': '2023-05-09T12:00:00+08:00', 'intervalAcKwh': 7835.4, 'avgPower': 0.37, 'avgRadiation': 0.362, 'prRate': 1.0225}, {'periodTime': '2023-05-09T13:00:00+08:00', 'intervalAcKwh': 11696.21, 'avgPower': 0.55, 'avgRadiation': 0.582, 'prRate': 0.9494}, {'periodTime': '2023-05-09T14:00:00+08:00', 'intervalAcKwh': 9757.93, 'avgPower': 0.46, 'avgRadiation': 0.4962, 'prRate': 0.929}, {'periodTime': '2023-05-09T15:00:00+08:00', 'intervalAcKwh': 7270.7, 'avgPower': 0.34, 'avgRadiation': 0.3523, 'prRate': 0.975}, {'periodTime': '2023-05-09T16:00:00+08:00', 'intervalAcKwh': 5802.94, 'avgPower': 0.27, 'avgRadiation': 0.2959, 'prRate': 0.9265}, {'periodTime': '2023-05-09T17:00:00+08:00', 'intervalAcKwh': 2282.41, 'avgPower': 0.11, 'avgRadiation': 0.1155, 'prRate': 0.9335}, {'periodTime': '2023-05-09T18:00:00+08:00', 'intervalAcKwh': 154.14, 'avgPower': 0.01, 'avgRadiation': 0.0082, 'prRate': 0.888}, {'periodTime': '2023-05-09T19:00:00+08:00', 'intervalAcKwh': 0.0, 'avgPower': 0.0, 'avgRadiation': 0.0, 'prRate': 0.0}, {'periodTime': '2023-05-10T06:00:00+08:00', 'intervalAcKwh': 2257.37, 'avgPower': 0.11, 'avgRadiation': 0.0478, 'prRate': 2.231}, {'periodTime': '2023-05-10T07:00:00+08:00', 'intervalAcKwh': 6432.4, 'avgPower': 0.3, 'avgRadiation': 0.1094, 'prRate': 2.7777}, {'periodTime': '2023-05-10T08:00:00+08:00', 'intervalAcKwh': 10541.49, 'avgPower': 0.5, 'avgRadiation': 0.2343, 'prRate': 2.1255}, {'periodTime': '2023-05-10T09:00:00+08:00', 'intervalAcKwh': 13254.03, 'avgPower': 0.63, 'avgRadiation': 0.7003, 'prRate': 0.8941}, {'periodTime': '2023-05-10T10:00:00+08:00', 'intervalAcKwh': 14234.38, 'avgPower': 0.67, 'avgRadiation': 0.7475, 'prRate': 0.8996}, {'periodTime': '2023-05-10T11:00:00+08:00', 'intervalAcKwh': 16525.31, 'avgPower': 0.78, 'avgRadiation': 0.8873, 'prRate': 0.8798}, {'periodTime': '2023-05-10T12:00:00+08:00', 'intervalAcKwh': 16188.4, 'avgPower': 0.76, 'avgRadiation': 0.8991, 'prRate': 0.8506}, {'periodTime': '2023-05-10T13:00:00+08:00', 'intervalAcKwh': 13597.47, 'avgPower': 0.64, 'avgRadiation': 0.7363, 'prRate': 0.8724}, {'periodTime': '2023-05-10T14:00:00+08:00', 'intervalAcKwh': 10655.94, 'avgPower': 0.5, 'avgRadiation': 0.5247, 'prRate': 0.9594}, {'periodTime': '2023-05-10T15:00:00+08:00', 'intervalAcKwh': 9810.16, 'avgPower': 0.46, 'avgRadiation': 0.5026, 'prRate': 0.9221}, {'periodTime': '2023-05-10T16:00:00+08:00', 'intervalAcKwh': 6242.93, 'avgPower': 0.29, 'avgRadiation': 0.319, 'prRate': 0.9245}, {'periodTime': '2023-05-10T17:00:00+08:00', 'intervalAcKwh': 2216.7, 'avgPower': 0.1, 'avgRadiation': 0.1142, 'prRate': 0.917}, {'periodTime': '2023-05-10T18:00:00+08:00', 'intervalAcKwh': 180.79, 'avgPower': 0.01, 'avgRadiation': 0.0084, 'prRate': 1.0168}, {'periodTime': '2023-05-10T19:00:00+08:00', 'intervalAcKwh': 0.0, 'avgPower': 0.0, 'avgRadiation': 0.0, 'prRate': 0.0}, {'periodTime': '2023-05-11T06:00:00+08:00', 'intervalAcKwh': 1614.6, 'avgPower': 0.08, 'avgRadiation': 0.0755, 'prRate': 1.0103}, {'periodTime': '2023-05-11T07:00:00+08:00', 'intervalAcKwh': 3074.18, 'avgPower': 0.15, 'avgRadiation': 0.1482, 'prRate': 0.9799}, {'periodTime': '2023-05-11T08:00:00+08:00', 'intervalAcKwh': 5318.42, 'avgPower': 0.25, 'avgRadiation': 0.246, 'prRate': 1.0213}, {'periodTime': '2023-05-11T09:00:00+08:00', 'intervalAcKwh': 7974.19, 'avgPower': 0.38, 'avgRadiation': 0.3914, 'prRate': 0.9625}, {'periodTime': '2023-05-11T10:00:00+08:00', 'intervalAcKwh': 10940.57, 'avgPower': 0.52, 'avgRadiation': 0.5656, 'prRate': 0.9138}, {'periodTime': '2023-05-11T11:00:00+08:00', 'intervalAcKwh': 12219.84, 'avgPower': 0.58, 'avgRadiation': 0.6452, 'prRate': 0.8947}, {'periodTime': '2023-05-11T12:00:00+08:00', 'intervalAcKwh': 13590.58, 'avgPower': 0.64, 'avgRadiation': 0.7348, 'prRate': 0.8738}, {'periodTime': '2023-05-11T13:00:00+08:00', 'intervalAcKwh': 14746.32, 'avgPower': 0.7, 'avgRadiation': 0.8024, 'prRate': 0.8682}, {'periodTime': '2023-05-11T14:00:00+08:00', 'intervalAcKwh': 13645.69, 'avgPower': 0.64, 'avgRadiation': 0.7123, 'prRate': 0.905}, {'periodTime': '2023-05-11T15:00:00+08:00', 'intervalAcKwh': 8048.33, 'avgPower': 0.38, 'avgRadiation': 0.4305, 'prRate': 0.8832}, {'periodTime': '2023-05-11T16:00:00+08:00', 'intervalAcKwh': 3017.57, 'avgPower': 0.14, 'avgRadiation': 0.139, 'prRate': 1.0256}, {'periodTime': '2023-05-11T17:00:00+08:00', 'intervalAcKwh': 974.91, 'avgPower': 0.05, 'avgRadiation': 0.0508, 'prRate': 0.9066}, {'periodTime': '2023-05-11T18:00:00+08:00', 'intervalAcKwh': 91.4, 'avgPower': 0.0, 'avgRadiation': 0.0049, 'prRate': 0.8812}, {'periodTime': '2023-05-11T19:00:00+08:00', 'intervalAcKwh': 0.0, 'avgPower': 0.0, 'avgRadiation': 0.0, 'prRate': 0.0}, {'periodTime': '2023-05-12T06:00:00+08:00', 'intervalAcKwh': 1036.42, 'avgPower': 0.05, 'avgRadiation': 0.0479, 'prRate': 1.0222}, {'periodTime': '2023-05-12T07:00:00+08:00', 'intervalAcKwh': 3567.92, 'avgPower': 0.17, 'avgRadiation': 0.1695, 'prRate': 0.9944}, {'periodTime': '2023-05-12T08:00:00+08:00', 'intervalAcKwh': 6339.89, 'avgPower': 0.3, 'avgRadiation': 0.3073, 'prRate': 0.9746}, {'periodTime': '2023-05-12T09:00:00+08:00', 'intervalAcKwh': 8431.27, 'avgPower': 0.4, 'avgRadiation': 0.4065, 'prRate': 0.9798}, {'periodTime': '2023-05-12T10:00:00+08:00', 'intervalAcKwh': 11559.63, 'avgPower': 0.55, 'avgRadiation': 0.5984, 'prRate': 0.9126}, {'periodTime': '2023-05-12T11:00:00+08:00', 'intervalAcKwh': 12506.9, 'avgPower': 0.59, 'avgRadiation': 0.6427, 'prRate': 0.9193}, {'periodTime': '2023-05-12T12:00:00+08:00', 'intervalAcKwh': 16092.08, 'avgPower': 0.76, 'avgRadiation': 0.8448, 'prRate': 0.8999}, {'periodTime': '2023-05-12T13:00:00+08:00', 'intervalAcKwh': 14893.12, 'avgPower': 0.7, 'avgRadiation': 0.7719, 'prRate': 0.9115}, {'periodTime': '2023-05-12T14:00:00+08:00', 'intervalAcKwh': 12343.89, 'avgPower': 0.58, 'avgRadiation': 0.6134, 'prRate': 0.9507}, {'periodTime': '2023-05-12T15:00:00+08:00', 'intervalAcKwh': 10231.68, 'avgPower': 0.48, 'avgRadiation': 0.555, 'prRate': 0.8709}, {'periodTime': '2023-05-12T16:00:00+08:00', 'intervalAcKwh': 4922.29, 'avgPower': 0.23, 'avgRadiation': 0.2536, 'prRate': 0.9169}, {'periodTime': '2023-05-12T17:00:00+08:00', 'intervalAcKwh': 1559.85, 'avgPower': 0.07, 'avgRadiation': 0.0798, 'prRate': 0.9234}, {'periodTime': '2023-05-12T18:00:00+08:00', 'intervalAcKwh': 156.07, 'avgPower': 0.01, 'avgRadiation': 0.0082, 'prRate': 0.8991}, {'periodTime': '2023-05-12T19:00:00+08:00', 'intervalAcKwh': 0.0, 'avgPower': 0.0, 'avgRadiation': 0.0, 'prRate': 0.0}, {'periodTime': '2023-05-13T06:00:00+08:00', 'intervalAcKwh': 1197.21, 'avgPower': 0.06, 'avgRadiation': 0.0545, 'prRate': 1.0378}, {'periodTime': '2023-05-13T07:00:00+08:00', 'intervalAcKwh': 3324.79, 'avgPower': 0.16, 'avgRadiation': 0.1555, 'prRate': 1.0101}, {'periodTime': '2023-05-13T08:00:00+08:00', 'intervalAcKwh': 5275.58, 'avgPower': 0.25, 'avgRadiation': 0.2512, 'prRate': 0.9921}, {'periodTime': '2023-05-13T09:00:00+08:00', 'intervalAcKwh': 7381.01, 'avgPower': 0.35, 'avgRadiation': 0.3742, 'prRate': 0.9318}, {'periodTime': '2023-05-13T10:00:00+08:00', 'intervalAcKwh': 7933.9, 'avgPower': 0.37, 'avgRadiation': 0.3922, 'prRate': 0.9557}, {'periodTime': '2023-05-13T11:00:00+08:00', 'intervalAcKwh': 7611.8, 'avgPower': 0.36, 'avgRadiation': 0.3885, 'prRate': 0.9256}, {'periodTime': '2023-05-13T12:00:00+08:00', 'intervalAcKwh': 7330.09, 'avgPower': 0.35, 'avgRadiation': 0.3421, 'prRate': 1.0122}, {'periodTime': '2023-05-13T13:00:00+08:00', 'intervalAcKwh': 7270.33, 'avgPower': 0.34, 'avgRadiation': 0.3591, 'prRate': 0.9564}, {'periodTime': '2023-05-13T14:00:00+08:00', 'intervalAcKwh': 7382.08, 'avgPower': 0.35, 'avgRadiation': 0.363, 'prRate': 0.9607}, {'periodTime': '2023-05-13T15:00:00+08:00', 'intervalAcKwh': 6284.82, 'avgPower': 0.3, 'avgRadiation': 0.318, 'prRate': 0.9337}, {'periodTime': '2023-05-13T16:00:00+08:00', 'intervalAcKwh': 2055.8, 'avgPower': 0.1, 'avgRadiation': 0.0999, 'prRate': 0.9722}, {'periodTime': '2023-05-13T17:00:00+08:00', 'intervalAcKwh': 1415.2, 'avgPower': 0.07, 'avgRadiation': 0.0702, 'prRate': 0.9524}, {'periodTime': '2023-05-13T18:00:00+08:00', 'intervalAcKwh': 72.58, 'avgPower': 0.0, 'avgRadiation': 0.0038, 'prRate': 0.9023}, {'periodTime': '2023-05-13T19:00:00+08:00', 'intervalAcKwh': 0.0, 'avgPower': 0.0, 'avgRadiation': 0.0, 'prRate': 0.0}, {'periodTime': '2023-05-14T06:00:00+08:00', 'intervalAcKwh': 356.01, 'avgPower': 0.02, 'avgRadiation': 0.0162, 'prRate': 1.0382}, {'periodTime': '2023-05-14T07:00:00+08:00', 'intervalAcKwh': 1871.98, 'avgPower': 0.09, 'avgRadiation': 0.0823, 'prRate': 1.0745}, {'periodTime': '2023-05-14T08:00:00+08:00', 'intervalAcKwh': 3723.23, 'avgPower': 0.18, 'avgRadiation': 0.171, 'prRate': 1.0286}, {'periodTime': '2023-05-14T09:00:00+08:00', 'intervalAcKwh': 5191.3, 'avgPower': 0.25, 'avgRadiation': 0.2478, 'prRate': 0.9897}, {'periodTime': '2023-05-14T10:00:00+08:00', 'intervalAcKwh': 7508.46, 'avgPower': 0.35, 'avgRadiation': 0.3435, 'prRate': 1.0326}, {'periodTime': '2023-05-14T11:00:00+08:00', 'intervalAcKwh': 11946.23, 'avgPower': 0.56, 'avgRadiation': 0.6356, 'prRate': 0.8879}, {'periodTime': '2023-05-14T12:00:00+08:00', 'intervalAcKwh': 11875.4, 'avgPower': 0.56, 'avgRadiation': 0.5981, 'prRate': 0.938}, {'periodTime': '2023-05-14T13:00:00+08:00', 'intervalAcKwh': 4980.5, 'avgPower': 0.24, 'avgRadiation': 0.2319, 'prRate': 1.0146}, {'periodTime': '2023-05-14T14:00:00+08:00', 'intervalAcKwh': 3750.1, 'avgPower': 0.18, 'avgRadiation': 0.1713, 'prRate': 1.0342}, {'periodTime': '2023-05-14T15:00:00+08:00', 'intervalAcKwh': 2889.1, 'avgPower': 0.14, 'avgRadiation': 0.1374, 'prRate': 0.9933}, {'periodTime': '2023-05-14T16:00:00+08:00', 'intervalAcKwh': 2620.78, 'avgPower': 0.12, 'avgRadiation': 0.1253, 'prRate': 0.9881}, {'periodTime': '2023-05-14T17:00:00+08:00', 'intervalAcKwh': 1012.13, 'avgPower': 0.05, 'avgRadiation': 0.0507, 'prRate': 0.9431}, {'periodTime': '2023-05-14T18:00:00+08:00', 'intervalAcKwh': 77.19, 'avgPower': 0.0, 'avgRadiation': 0.0034, 'prRate': 1.0725}, {'periodTime': '2023-05-14T19:00:00+08:00', 'intervalAcKwh': 0.0, 'avgPower': 0.0, 'avgRadiation': 0.0, 'prRate': 0.0}, {'periodTime': '2023-05-15T06:00:00+08:00', 'intervalAcKwh': 859.5, 'avgPower': 0.04, 'avgRadiation': 0.0216, 'prRate': 1.8798}, {'periodTime': '2023-05-15T07:00:00+08:00', 'intervalAcKwh': 1340.9, 'avgPower': 0.06, 'avgRadiation': 0.0606, 'prRate': 1.0453}, {'periodTime': '2023-05-15T08:00:00+08:00', 'intervalAcKwh': 2910.09, 'avgPower': 0.14, 'avgRadiation': 0.1328, 'prRate': 1.0352}, {'periodTime': '2023-05-15T09:00:00+08:00', 'intervalAcKwh': 4459.43, 'avgPower': 0.21, 'avgRadiation': 0.2088, 'prRate': 1.009}, {'periodTime': '2023-05-15T10:00:00+08:00', 'intervalAcKwh': 5931.57, 'avgPower': 0.28, 'avgRadiation': 0.2676, 'prRate': 1.0471}, {'periodTime': '2023-05-15T11:00:00+08:00', 'intervalAcKwh': 5576.32, 'avgPower': 0.26, 'avgRadiation': 0.2678, 'prRate': 0.9837}, {'periodTime': '2023-05-15T12:00:00+08:00', 'intervalAcKwh': 4839.49, 'avgPower': 0.23, 'avgRadiation': 0.2118, 'prRate': 1.0794}, {'periodTime': '2023-05-15T13:00:00+08:00', 'intervalAcKwh': 7555.1, 'avgPower': 0.36, 'avgRadiation': 0.3436, 'prRate': 1.0387}, {'periodTime': '2023-05-15T14:00:00+08:00', 'intervalAcKwh': 7259.68, 'avgPower': 0.34, 'avgRadiation': 0.3487, 'prRate': 0.9835}, {'periodTime': '2023-05-15T15:00:00+08:00', 'intervalAcKwh': 4148.41, 'avgPower': 0.2, 'avgRadiation': 0.1932, 'prRate': 1.0144}, {'periodTime': '2023-05-15T16:00:00+08:00', 'intervalAcKwh': 2633.29, 'avgPower': 0.12, 'avgRadiation': 0.1208, 'prRate': 1.0298}, {'periodTime': '2023-05-15T17:00:00+08:00', 'intervalAcKwh': 1064.94, 'avgPower': 0.05, 'avgRadiation': 0.05, 'prRate': 1.0062}, {'periodTime': '2023-05-15T18:00:00+08:00', 'intervalAcKwh': 92.86, 'avgPower': 0.0, 'avgRadiation': 0.0038, 'prRate': 1.1544}, {'periodTime': '2023-05-15T19:00:00+08:00', 'intervalAcKwh': 0.0, 'avgPower': 0.0, 'avgRadiation': 0.0, 'prRate': 0.0}, {'periodTime': '2023-05-16T06:00:00+08:00', 'intervalAcKwh': 1274.63, 'avgPower': 0.06, 'avgRadiation': 0.0552, 'prRate': 1.0909}, {'periodTime': '2023-05-16T07:00:00+08:00', 'intervalAcKwh': 3983.58, 'avgPower': 0.19, 'avgRadiation': 0.193, 'prRate': 0.9751}, {'periodTime': '2023-05-16T08:00:00+08:00', 'intervalAcKwh': 5258.0, 'avgPower': 0.25, 'avgRadiation': 0.2391, 'prRate': 1.0389}, {'periodTime': '2023-05-16T09:00:00+08:00', 'intervalAcKwh': 9358.29, 'avgPower': 0.44, 'avgRadiation': 0.4559, 'prRate': 0.9697}, {'periodTime': '2023-05-16T10:00:00+08:00', 'intervalAcKwh': 7359.8, 'avgPower': 0.35, 'avgRadiation': 0.3418, 'prRate': 1.0172}, {'periodTime': '2023-05-16T11:00:00+08:00', 'intervalAcKwh': 12141.2, 'avgPower': 0.57, 'avgRadiation': 0.6042, 'prRate': 0.9493}, {'periodTime': '2023-05-16T12:00:00+08:00', 'intervalAcKwh': 11568.11, 'avgPower': 0.55, 'avgRadiation': 0.5768, 'prRate': 0.9475}, {'periodTime': '2023-05-16T13:00:00+08:00', 'intervalAcKwh': 9367.09, 'avgPower': 0.44, 'avgRadiation': 0.4438, 'prRate': 0.9971}, {'periodTime': '2023-05-16T14:00:00+08:00', 'intervalAcKwh': 10244.23, 'avgPower': 0.48, 'avgRadiation': 0.5102, 'prRate': 0.9486}, {'periodTime': '2023-05-16T15:00:00+08:00', 'intervalAcKwh': 7192.59, 'avgPower': 0.34, 'avgRadiation': 0.3855, 'prRate': 0.8814}, {'periodTime': '2023-05-16T16:00:00+08:00', 'intervalAcKwh': 2495.88, 'avgPower': 0.12, 'avgRadiation': 0.1175, 'prRate': 1.0035}, {'periodTime': '2023-05-16T17:00:00+08:00', 'intervalAcKwh': 1587.11, 'avgPower': 0.07, 'avgRadiation': 0.0808, 'prRate': 0.9279}, {'periodTime': '2023-05-16T18:00:00+08:00', 'intervalAcKwh': 180.57, 'avgPower': 0.01, 'avgRadiation': 0.0096, 'prRate': 0.8886}, {'periodTime': '2023-05-16T19:00:00+08:00', 'intervalAcKwh': 0.0, 'avgPower': 0.0, 'avgRadiation': 0.0, 'prRate': 0.0}, {'periodTime': '2023-05-17T06:00:00+08:00', 'intervalAcKwh': 2528.69, 'avgPower': 0.12, 'avgRadiation': 0.1238, 'prRate': 0.9649}, {'periodTime': '2023-05-17T07:00:00+08:00', 'intervalAcKwh': 6867.41, 'avgPower': 0.32, 'avgRadiation': 0.3308, 'prRate': 0.9807}, {'periodTime': '2023-05-17T08:00:00+08:00', 'intervalAcKwh': 10671.82, 'avgPower': 0.5, 'avgRadiation': 0.533, 'prRate': 0.9459}, {'periodTime': '2023-05-17T09:00:00+08:00', 'intervalAcKwh': 13522.47, 'avgPower': 0.64, 'avgRadiation': 0.7042, 'prRate': 0.9072}, {'periodTime': '2023-05-17T10:00:00+08:00', 'intervalAcKwh': 15674.62, 'avgPower': 0.74, 'avgRadiation': 0.8349, 'prRate': 0.8869}, {'periodTime': '2023-05-17T11:00:00+08:00', 'intervalAcKwh': 16745.68, 'avgPower': 0.79, 'avgRadiation': 0.9091, 'prRate': 0.8702}, {'periodTime': '2023-05-17T12:00:00+08:00', 'intervalAcKwh': 16819.88, 'avgPower': 0.79, 'avgRadiation': 0.9164, 'prRate': 0.8671}, {'periodTime': '2023-05-17T13:00:00+08:00', 'intervalAcKwh': 15841.62, 'avgPower': 0.75, 'avgRadiation': 0.8566, 'prRate': 0.8737}, {'periodTime': '2023-05-17T14:00:00+08:00', 'intervalAcKwh': 13696.04, 'avgPower': 0.65, 'avgRadiation': 0.7232, 'prRate': 0.8947}, {'periodTime': '2023-05-17T15:00:00+08:00', 'intervalAcKwh': 10559.57, 'avgPower': 0.5, 'avgRadiation': 0.5463, 'prRate': 0.9131}, {'periodTime': '2023-05-17T16:00:00+08:00', 'intervalAcKwh': 6538.38, 'avgPower': 0.31, 'avgRadiation': 0.3333, 'prRate': 0.9267}, {'periodTime': '2023-05-17T17:00:00+08:00', 'intervalAcKwh': 2429.1, 'avgPower': 0.11, 'avgRadiation': 0.1256, 'prRate': 0.9136}, {'periodTime': '2023-05-17T18:00:00+08:00', 'intervalAcKwh': 237.19, 'avgPower': 0.01, 'avgRadiation': 0.011, 'prRate': 1.0187}, {'periodTime': '2023-05-17T19:00:00+08:00', 'intervalAcKwh': 0.0, 'avgPower': 0.0, 'avgRadiation': 0.0, 'prRate': 0.0}, {'periodTime': '2023-05-18T06:00:00+08:00', 'intervalAcKwh': 1661.8, 'avgPower': 0.08, 'avgRadiation': 0.0788, 'prRate': 0.9963}, {'periodTime': '2023-05-18T07:00:00+08:00', 'intervalAcKwh': 4417.81, 'avgPower': 0.21, 'avgRadiation': 0.2087, 'prRate': 1.0}, {'periodTime': '2023-05-18T08:00:00+08:00', 'intervalAcKwh': 6985.01, 'avgPower': 0.33, 'avgRadiation': 0.3759, 'prRate': 0.8778}, {'periodTime': '2023-05-18T09:00:00+08:00', 'intervalAcKwh': 6708.81, 'avgPower': 0.32, 'avgRadiation': 0.3492, 'prRate': 0.9076}, {'periodTime': '2023-05-18T10:00:00+08:00', 'intervalAcKwh': 11131.49, 'avgPower': 0.53, 'avgRadiation': 0.5559, 'prRate': 0.946}, {'periodTime': '2023-05-18T11:00:00+08:00', 'intervalAcKwh': 11687.39, 'avgPower': 0.55, 'avgRadiation': 0.6913, 'prRate': 0.7987}, {'periodTime': '2023-05-18T12:00:00+08:00', 'intervalAcKwh': 12279.03, 'avgPower': 0.58, 'avgRadiation': 0.615, 'prRate': 0.9432}, {'periodTime': '2023-05-18T13:00:00+08:00', 'intervalAcKwh': 12828.66, 'avgPower': 0.61, 'avgRadiation': 0.7195, 'prRate': 0.8423}, {'periodTime': '2023-05-18T14:00:00+08:00', 'intervalAcKwh': 9040.73, 'avgPower': 0.43, 'avgRadiation': 0.5194, 'prRate': 0.8223}, {'periodTime': '2023-05-18T15:00:00+08:00', 'intervalAcKwh': 6446.29, 'avgPower': 0.3, 'avgRadiation': 0.3117, 'prRate': 0.977}, {'periodTime': '2023-05-18T16:00:00+08:00', 'intervalAcKwh': 6251.65, 'avgPower': 0.3, 'avgRadiation': 0.321, 'prRate': 0.9201}, {'periodTime': '2023-05-18T17:00:00+08:00', 'intervalAcKwh': 1622.25, 'avgPower': 0.08, 'avgRadiation': 0.087, 'prRate': 0.8809}, {'periodTime': '2023-05-18T18:00:00+08:00', 'intervalAcKwh': 366.12, 'avgPower': 0.02, 'avgRadiation': 0.0195, 'prRate': 0.887}, {'periodTime': '2023-05-18T19:00:00+08:00', 'intervalAcKwh': 0.0, 'avgPower': 0.0, 'avgRadiation': 0.0, 'prRate': 0.0}, {'periodTime': '2023-05-19T06:00:00+08:00', 'intervalAcKwh': 1929.89, 'avgPower': 0.09, 'avgRadiation': 0.0915, 'prRate': 0.9964}, {'periodTime': '2023-05-19T07:00:00+08:00', 'intervalAcKwh': 5563.69, 'avgPower': 0.26, 'avgRadiation': 0.2694, 'prRate': 0.9756}, {'periodTime': '2023-05-19T08:00:00+08:00', 'intervalAcKwh': 6111.6, 'avgPower': 0.29, 'avgRadiation': 0.3089, 'prRate': 0.9347}, {'periodTime': '2023-05-19T09:00:00+08:00', 'intervalAcKwh': 9399.53, 'avgPower': 0.44, 'avgRadiation': 0.4864, 'prRate': 0.9129}, {'periodTime': '2023-05-19T10:00:00+08:00', 'intervalAcKwh': 11033.45, 'avgPower': 0.52, 'avgRadiation': 0.5539, 'prRate': 0.941}, {'periodTime': '2023-05-19T11:00:00+08:00', 'intervalAcKwh': 12875.74, 'avgPower': 0.61, 'avgRadiation': 0.6518, 'prRate': 0.9332}, {'periodTime': '2023-05-19T12:00:00+08:00', 'intervalAcKwh': 11595.52, 'avgPower': 0.55, 'avgRadiation': 0.6457, 'prRate': 0.8484}, {'periodTime': '2023-05-19T13:00:00+08:00', 'intervalAcKwh': 7160.39, 'avgPower': 0.34, 'avgRadiation': 0.3252, 'prRate': 1.0402}, {'periodTime': '2023-05-19T14:00:00+08:00', 'intervalAcKwh': 5076.43, 'avgPower': 0.24, 'avgRadiation': 0.253, 'prRate': 0.9479}, {'periodTime': '2023-05-19T15:00:00+08:00', 'intervalAcKwh': 841.45, 'avgPower': 0.04, 'avgRadiation': 0.0444, 'prRate': 0.8953}, {'periodTime': '2023-05-19T16:00:00+08:00', 'intervalAcKwh': 1006.18, 'avgPower': 0.05, 'avgRadiation': 0.0455, 'prRate': 1.0447}, {'periodTime': '2023-05-19T17:00:00+08:00', 'intervalAcKwh': 745.6, 'avgPower': 0.04, 'avgRadiation': 0.0386, 'prRate': 0.9125}, {'periodTime': '2023-05-19T18:00:00+08:00', 'intervalAcKwh': 71.02, 'avgPower': 0.0, 'avgRadiation': 0.0042, 'prRate': 0.7988}, {'periodTime': '2023-05-19T19:00:00+08:00', 'intervalAcKwh': 0.0, 'avgPower': 0.0, 'avgRadiation': 0.0, 'prRate': 0.0}, {'periodTime': '2023-05-20T06:00:00+08:00', 'intervalAcKwh': 1520.87, 'avgPower': 0.07, 'avgRadiation': 0.0746, 'prRate': 0.9631}, {'periodTime': '2023-05-20T07:00:00+08:00', 'intervalAcKwh': 6193.62, 'avgPower': 0.29, 'avgRadiation': 0.3004, 'prRate': 0.974}, {'periodTime': '2023-05-20T08:00:00+08:00', 'intervalAcKwh': 9893.71, 'avgPower': 0.47, 'avgRadiation': 0.4979, 'prRate': 0.9387}, {'periodTime': '2023-05-20T09:00:00+08:00', 'intervalAcKwh': 10613.4, 'avgPower': 0.5, 'avgRadiation': 0.5449, 'prRate': 0.9202}, {'periodTime': '2023-05-20T10:00:00+08:00', 'intervalAcKwh': 14758.31, 'avgPower': 0.7, 'avgRadiation': 0.7713, 'prRate': 0.9039}, {'periodTime': '2023-05-20T11:00:00+08:00', 'intervalAcKwh': 16396.19, 'avgPower': 0.77, 'avgRadiation': 0.8944, 'prRate': 0.866}, {'periodTime': '2023-05-20T12:00:00+08:00', 'intervalAcKwh': 16753.76, 'avgPower': 0.79, 'avgRadiation': 0.9094, 'prRate': 0.8703}, {'periodTime': '2023-05-20T13:00:00+08:00', 'intervalAcKwh': 13683.41, 'avgPower': 0.65, 'avgRadiation': 0.7725, 'prRate': 0.8368}, {'periodTime': '2023-05-20T14:00:00+08:00', 'intervalAcKwh': 10091.47, 'avgPower': 0.48, 'avgRadiation': 0.5074, 'prRate': 0.9396}, {'periodTime': '2023-05-20T15:00:00+08:00', 'intervalAcKwh': 7716.85, 'avgPower': 0.36, 'avgRadiation': 0.3997, 'prRate': 0.9121}, {'periodTime': '2023-05-20T16:00:00+08:00', 'intervalAcKwh': 5533.43, 'avgPower': 0.26, 'avgRadiation': 0.2757, 'prRate': 0.9482}, {'periodTime': '2023-05-20T17:00:00+08:00', 'intervalAcKwh': 1758.31, 'avgPower': 0.08, 'avgRadiation': 0.0886, 'prRate': 0.9375}, {'periodTime': '2023-05-20T18:00:00+08:00', 'intervalAcKwh': 254.78, 'avgPower': 0.01, 'avgRadiation': 0.0124, 'prRate': 0.9707}, {'periodTime': '2023-05-20T19:00:00+08:00', 'intervalAcKwh': 0.0, 'avgPower': 0.0, 'avgRadiation': 0.0, 'prRate': 0.0}, {'periodTime': '2023-05-21T06:00:00+08:00', 'intervalAcKwh': 707.65, 'avgPower': 0.03, 'avgRadiation': 0.0308, 'prRate': 1.0854}, {'periodTime': '2023-05-21T07:00:00+08:00', 'intervalAcKwh': 3921.48, 'avgPower': 0.19, 'avgRadiation': 0.1791, 'prRate': 1.0344}, {'periodTime': '2023-05-21T08:00:00+08:00', 'intervalAcKwh': 7496.77, 'avgPower': 0.35, 'avgRadiation': 0.3678, 'prRate': 0.9629}, {'periodTime': '2023-05-21T09:00:00+08:00', 'intervalAcKwh': 11938.89, 'avgPower': 0.56, 'avgRadiation': 0.6269, 'prRate': 0.8997}, {'periodTime': '2023-05-21T10:00:00+08:00', 'intervalAcKwh': 15285.77, 'avgPower': 0.72, 'avgRadiation': 0.8247, 'prRate': 0.8756}, {'periodTime': '2023-05-21T11:00:00+08:00', 'intervalAcKwh': 16204.2, 'avgPower': 0.77, 'avgRadiation': 0.8796, 'prRate': 0.8703}, {'periodTime': '2023-05-21T12:00:00+08:00', 'intervalAcKwh': 16531.87, 'avgPower': 0.78, 'avgRadiation': 0.9182, 'prRate': 0.8506}, {'periodTime': '2023-05-21T13:00:00+08:00', 'intervalAcKwh': 15538.06, 'avgPower': 0.73, 'avgRadiation': 0.8523, 'prRate': 0.8612}, {'periodTime': '2023-05-21T14:00:00+08:00', 'intervalAcKwh': 13469.32, 'avgPower': 0.64, 'avgRadiation': 0.7174, 'prRate': 0.887}, {'periodTime': '2023-05-21T15:00:00+08:00', 'intervalAcKwh': 10133.57, 'avgPower': 0.48, 'avgRadiation': 0.5095, 'prRate': 0.9396}, {'periodTime': '2023-05-21T16:00:00+08:00', 'intervalAcKwh': 6815.36, 'avgPower': 0.32, 'avgRadiation': 0.3512, 'prRate': 0.9168}, {'periodTime': '2023-05-21T17:00:00+08:00', 'intervalAcKwh': 2415.07, 'avgPower': 0.11, 'avgRadiation': 0.125, 'prRate': 0.9127}, {'periodTime': '2023-05-21T18:00:00+08:00', 'intervalAcKwh': 214.81, 'avgPower': 0.01, 'avgRadiation': 0.0092, 'prRate': 1.103}, {'periodTime': '2023-05-21T19:00:00+08:00', 'intervalAcKwh': 0.0, 'avgPower': 0.0, 'avgRadiation': 0.0, 'prRate': 0.0}, {'periodTime': '2023-05-22T06:00:00+08:00', 'intervalAcKwh': 2545.25, 'avgPower': 0.12, 'avgRadiation': 0.125, 'prRate': 0.9619}, {'periodTime': '2023-05-22T07:00:00+08:00', 'intervalAcKwh': 5617.14, 'avgPower': 0.27, 'avgRadiation': 0.2665, 'prRate': 0.9957}, {'periodTime': '2023-05-22T08:00:00+08:00', 'intervalAcKwh': 8633.97, 'avgPower': 0.41, 'avgRadiation': 0.413, 'prRate': 0.9876}, {'periodTime': '2023-05-22T09:00:00+08:00', 'intervalAcKwh': 13141.8, 'avgPower': 0.62, 'avgRadiation': 0.6893, 'prRate': 0.9007}, {'periodTime': '2023-05-22T10:00:00+08:00', 'intervalAcKwh': 14330.75, 'avgPower': 0.68, 'avgRadiation': 0.8725, 'prRate': 0.7759}, {'periodTime': '2023-05-22T11:00:00+08:00', 'intervalAcKwh': 14372.35, 'avgPower': 0.68, 'avgRadiation': 0.712, 'prRate': 0.9536}, {'periodTime': '2023-05-22T12:00:00+08:00', 'intervalAcKwh': 13048.14, 'avgPower': 0.62, 'avgRadiation': 0.7187, 'prRate': 0.8577}, {'periodTime': '2023-05-22T13:00:00+08:00', 'intervalAcKwh': 9064.08, 'avgPower': 0.43, 'avgRadiation': 0.46, 'prRate': 0.9309}, {'periodTime': '2023-05-22T14:00:00+08:00', 'intervalAcKwh': 12623.55, 'avgPower': 0.6, 'avgRadiation': 0.665, 'prRate': 0.8968}, {'periodTime': '2023-05-22T15:00:00+08:00', 'intervalAcKwh': 10301.14, 'avgPower': 0.49, 'avgRadiation': 0.5134, 'prRate': 0.9479}, {'periodTime': '2023-05-22T16:00:00+08:00', 'intervalAcKwh': 5470.43, 'avgPower': 0.26, 'avgRadiation': 0.2738, 'prRate': 0.9439}, {'periodTime': '2023-05-22T17:00:00+08:00', 'intervalAcKwh': 1918.0, 'avgPower': 0.09, 'avgRadiation': 0.1, 'prRate': 0.9061}, {'periodTime': '2023-05-22T18:00:00+08:00', 'intervalAcKwh': 325.59, 'avgPower': 0.02, 'avgRadiation': 0.0162, 'prRate': 0.9495}, {'periodTime': '2023-05-22T19:00:00+08:00', 'intervalAcKwh': 0.0, 'avgPower': 0.0, 'avgRadiation': 0.0, 'prRate': 0.0}, {'periodTime': '2023-05-23T06:00:00+08:00', 'intervalAcKwh': 750.98, 'avgPower': 0.04, 'avgRadiation': 0.0373, 'prRate': 0.9511}, {'periodTime': '2023-05-23T07:00:00+08:00', 'intervalAcKwh': 1418.08, 'avgPower': 0.07, 'avgRadiation': 0.0653, 'prRate': 1.0259}, {'periodTime': '2023-05-23T08:00:00+08:00', 'intervalAcKwh': 4655.71, 'avgPower': 0.22, 'avgRadiation': 0.2284, 'prRate': 0.963}, {'periodTime': '2023-05-23T09:00:00+08:00', 'intervalAcKwh': 8866.0, 'avgPower': 0.42, 'avgRadiation': 0.4465, 'prRate': 0.9381}, {'periodTime': '2023-05-23T10:00:00+08:00', 'intervalAcKwh': 13256.9, 'avgPower': 0.63, 'avgRadiation': 0.6009, 'prRate': 1.0422}, {'periodTime': '2023-05-23T11:00:00+08:00', 'intervalAcKwh': 15736.91, 'avgPower': 0.74, 'avgRadiation': 0.8292, 'prRate': 0.8966}, {'periodTime': '2023-05-23T12:00:00+08:00', 'intervalAcKwh': 16178.11, 'avgPower': 0.76, 'avgRadiation': 0.856, 'prRate': 0.8928}, {'periodTime': '2023-05-23T13:00:00+08:00', 'intervalAcKwh': 13537.01, 'avgPower': 0.64, 'avgRadiation': 0.7026, 'prRate': 0.9102}, {'periodTime': '2023-05-23T14:00:00+08:00', 'intervalAcKwh': 11414.74, 'avgPower': 0.54, 'avgRadiation': 0.5607, 'prRate': 0.9617}, {'periodTime': '2023-05-23T15:00:00+08:00', 'intervalAcKwh': 8517.05, 'avgPower': 0.4, 'avgRadiation': 0.4352, 'prRate': 0.9245}, {'periodTime': '2023-05-23T16:00:00+08:00', 'intervalAcKwh': 4186.11, 'avgPower': 0.2, 'avgRadiation': 0.2049, 'prRate': 0.9651}, {'periodTime': '2023-05-23T17:00:00+08:00', 'intervalAcKwh': 521.06, 'avgPower': 0.02, 'avgRadiation': 0.0261, 'prRate': 0.9431}, {'periodTime': '2023-05-23T18:00:00+08:00', 'intervalAcKwh': 44.59, 'avgPower': 0.0, 'avgRadiation': 0.0004, 'prRate': 5.2662}, {'periodTime': '2023-05-23T19:00:00+08:00', 'intervalAcKwh': 0.0, 'avgPower': 0.0, 'avgRadiation': 0.0, 'prRate': 0.0}, {'periodTime': '2023-05-24T06:00:00+08:00', 'intervalAcKwh': 800.11, 'avgPower': 0.04, 'avgRadiation': 0.0388, 'prRate': 0.9742}, {'periodTime': '2023-05-24T07:00:00+08:00', 'intervalAcKwh': 1313.79, 'avgPower': 0.06, 'avgRadiation': 0.0617, 'prRate': 1.0059}, {'periodTime': '2023-05-24T08:00:00+08:00', 'intervalAcKwh': 3851.62, 'avgPower': 0.18, 'avgRadiation': 0.1658, 'prRate': 1.0974}, {'periodTime': '2023-05-24T09:00:00+08:00', 'intervalAcKwh': 12911.97, 'avgPower': 0.61, 'avgRadiation': 0.6756, 'prRate': 0.9029}, {'periodTime': '2023-05-24T10:00:00+08:00', 'intervalAcKwh': 12842.57, 'avgPower': 0.61, 'avgRadiation': 0.7225, 'prRate': 0.8397}, {'periodTime': '2023-05-24T11:00:00+08:00', 'intervalAcKwh': 11468.7, 'avgPower': 0.54, 'avgRadiation': 0.5646, 'prRate': 0.9596}, {'periodTime': '2023-05-24T12:00:00+08:00', 'intervalAcKwh': 12619.61, 'avgPower': 0.6, 'avgRadiation': 0.6288, 'prRate': 0.9481}, {'periodTime': '2023-05-24T13:00:00+08:00', 'intervalAcKwh': 8894.25, 'avgPower': 0.42, 'avgRadiation': 0.4832, 'prRate': 0.8696}, {'periodTime': '2023-05-24T14:00:00+08:00', 'intervalAcKwh': 4442.97, 'avgPower': 0.21, 'avgRadiation': 0.2301, 'prRate': 0.9122}, {'periodTime': '2023-05-24T15:00:00+08:00', 'intervalAcKwh': 1852.15, 'avgPower': 0.09, 'avgRadiation': 0.0869, 'prRate': 1.0069}, {'periodTime': '2023-05-24T16:00:00+08:00', 'intervalAcKwh': 3130.82, 'avgPower': 0.15, 'avgRadiation': 0.1471, 'prRate': 1.0055}, {'periodTime': '2023-05-24T17:00:00+08:00', 'intervalAcKwh': 2158.67, 'avgPower': 0.1, 'avgRadiation': 0.1094, 'prRate': 0.9322}, {'periodTime': '2023-05-24T18:00:00+08:00', 'intervalAcKwh': 128.19, 'avgPower': 0.01, 'avgRadiation': 0.0063, 'prRate': 0.9612}, {'periodTime': '2023-05-24T19:00:00+08:00', 'intervalAcKwh': 0.0, 'avgPower': 0.0, 'avgRadiation': 0.0, 'prRate': 0.0}, {'periodTime': '2023-05-25T06:00:00+08:00', 'intervalAcKwh': 834.19, 'avgPower': 0.04, 'avgRadiation': 0.0355, 'prRate': 1.1101}, {'periodTime': '2023-05-25T07:00:00+08:00', 'intervalAcKwh': 4474.85, 'avgPower': 0.21, 'avgRadiation': 0.2052, 'prRate': 1.0302}, {'periodTime': '2023-05-25T08:00:00+08:00', 'intervalAcKwh': 10234.32, 'avgPower': 0.48, 'avgRadiation': 0.5134, 'prRate': 0.9417}, {'periodTime': '2023-05-25T09:00:00+08:00', 'intervalAcKwh': 13291.48, 'avgPower': 0.63, 'avgRadiation': 0.3758, 'prRate': 1.6709}, {'periodTime': '2023-05-25T10:00:00+08:00', 'intervalAcKwh': 15214.25, 'avgPower': 0.72, 'avgRadiation': 0.8099, 'prRate': 0.8874}, {'periodTime': '2023-05-25T11:00:00+08:00', 'intervalAcKwh': 16472.55, 'avgPower': 0.78, 'avgRadiation': 0.8852, 'prRate': 0.8791}, {'periodTime': '2023-05-25T12:00:00+08:00', 'intervalAcKwh': 16635.53, 'avgPower': 0.79, 'avgRadiation': 0.8996, 'prRate': 0.8736}, {'periodTime': '2023-05-25T13:00:00+08:00', 'intervalAcKwh': 15520.57, 'avgPower': 0.73, 'avgRadiation': 0.8334, 'prRate': 0.8798}, {'periodTime': '2023-05-25T14:00:00+08:00', 'intervalAcKwh': 13500.22, 'avgPower': 0.64, 'avgRadiation': 0.7132, 'prRate': 0.8942}, {'periodTime': '2023-05-25T15:00:00+08:00', 'intervalAcKwh': 10438.86, 'avgPower': 0.49, 'avgRadiation': 0.5358, 'prRate': 0.9204}, {'periodTime': '2023-05-25T16:00:00+08:00', 'intervalAcKwh': 6531.22, 'avgPower': 0.31, 'avgRadiation': 0.3303, 'prRate': 0.9341}, {'periodTime': '2023-05-25T17:00:00+08:00', 'intervalAcKwh': 2433.46, 'avgPower': 0.11, 'avgRadiation': 0.1293, 'prRate': 0.8891}, {'periodTime': '2023-05-25T18:00:00+08:00', 'intervalAcKwh': 314.53, 'avgPower': 0.01, 'avgRadiation': 0.0146, 'prRate': 1.0177}, {'periodTime': '2023-05-25T19:00:00+08:00', 'intervalAcKwh': 0.0, 'avgPower': 0.0, 'avgRadiation': 0.0, 'prRate': 0.0}, {'periodTime': '2023-05-26T06:00:00+08:00', 'intervalAcKwh': 2317.71, 'avgPower': 0.11, 'avgRadiation': 0.1132, 'prRate': 0.9672}, {'periodTime': '2023-05-26T07:00:00+08:00', 'intervalAcKwh': 4472.91, 'avgPower': 0.21, 'avgRadiation': 0.2162, 'prRate': 0.9774}, {'periodTime': '2023-05-26T08:00:00+08:00', 'intervalAcKwh': 8113.28, 'avgPower': 0.38, 'avgRadiation': 0.3908, 'prRate': 0.9808}, {'periodTime': '2023-05-26T09:00:00+08:00', 'intervalAcKwh': 13593.66, 'avgPower': 0.64, 'avgRadiation': 0.7116, 'prRate': 0.9024}, {'periodTime': '2023-05-26T10:00:00+08:00', 'intervalAcKwh': 15213.07, 'avgPower': 0.72, 'avgRadiation': 0.7878, 'prRate': 0.9123}, {'periodTime': '2023-05-26T11:00:00+08:00', 'intervalAcKwh': 16299.2, 'avgPower': 0.77, 'avgRadiation': 0.8798, 'prRate': 0.8752}, {'periodTime': '2023-05-26T12:00:00+08:00', 'intervalAcKwh': 16420.86, 'avgPower': 0.78, 'avgRadiation': 0.898, 'prRate': 0.8639}, {'periodTime': '2023-05-26T13:00:00+08:00', 'intervalAcKwh': 15512.07, 'avgPower': 0.73, 'avgRadiation': 0.8346, 'prRate': 0.878}, {'periodTime': '2023-05-26T14:00:00+08:00', 'intervalAcKwh': 13472.75, 'avgPower': 0.64, 'avgRadiation': 0.7117, 'prRate': 0.8943}, {'periodTime': '2023-05-26T15:00:00+08:00', 'intervalAcKwh': 10319.53, 'avgPower': 0.49, 'avgRadiation': 0.5342, 'prRate': 0.9126}, {'periodTime': '2023-05-26T16:00:00+08:00', 'intervalAcKwh': 6435.15, 'avgPower': 0.3, 'avgRadiation': 0.327, 'prRate': 0.9297}, {'periodTime': '2023-05-26T17:00:00+08:00', 'intervalAcKwh': 2534.56, 'avgPower': 0.12, 'avgRadiation': 0.135, 'prRate': 0.8869}, {'periodTime': '2023-05-26T18:00:00+08:00', 'intervalAcKwh': 327.41, 'avgPower': 0.02, 'avgRadiation': 0.0152, 'prRate': 1.0176}, {'periodTime': '2023-05-26T19:00:00+08:00', 'intervalAcKwh': 0.0, 'avgPower': 0.0, 'avgRadiation': 0.0, 'prRate': 0.0}, {'periodTime': '2023-05-27T06:00:00+08:00', 'intervalAcKwh': 1267.18, 'avgPower': 0.06, 'avgRadiation': 0.0593, 'prRate': 1.0095}, {'periodTime': '2023-05-27T07:00:00+08:00', 'intervalAcKwh': 4702.16, 'avgPower': 0.22, 'avgRadiation': 0.2174, 'prRate': 1.0218}, {'periodTime': '2023-05-27T08:00:00+08:00', 'intervalAcKwh': 7705.63, 'avgPower': 0.36, 'avgRadiation': 0.375, 'prRate': 0.9707}, {'periodTime': '2023-05-27T09:00:00+08:00', 'intervalAcKwh': 10286.99, 'avgPower': 0.49, 'avgRadiation': 0.457, 'prRate': 1.0634}, {'periodTime': '2023-05-27T10:00:00+08:00', 'intervalAcKwh': 13544.02, 'avgPower': 0.64, 'avgRadiation': 0.7055, 'prRate': 0.9069}, {'periodTime': '2023-05-27T11:00:00+08:00', 'intervalAcKwh': 12161.18, 'avgPower': 0.57, 'avgRadiation': 0.5853, 'prRate': 0.9816}, {'periodTime': '2023-05-27T12:00:00+08:00', 'intervalAcKwh': 15050.1, 'avgPower': 0.71, 'avgRadiation': 0.7954, 'prRate': 0.8939}, {'periodTime': '2023-05-27T13:00:00+08:00', 'intervalAcKwh': 15828.28, 'avgPower': 0.75, 'avgRadiation': 0.8506, 'prRate': 0.8791}, {'periodTime': '2023-05-27T14:00:00+08:00', 'intervalAcKwh': 13645.94, 'avgPower': 0.64, 'avgRadiation': 0.7208, 'prRate': 0.8944}, {'periodTime': '2023-05-27T15:00:00+08:00', 'intervalAcKwh': 10280.27, 'avgPower': 0.49, 'avgRadiation': 0.5312, 'prRate': 0.9143}, {'periodTime': '2023-05-27T16:00:00+08:00', 'intervalAcKwh': 6555.5, 'avgPower': 0.31, 'avgRadiation': 0.3216, 'prRate': 0.963}, {'periodTime': '2023-05-27T17:00:00+08:00', 'intervalAcKwh': 2793.51, 'avgPower': 0.13, 'avgRadiation': 0.1508, 'prRate': 0.8751}, {'periodTime': '2023-05-27T18:00:00+08:00', 'intervalAcKwh': 314.63, 'avgPower': 0.01, 'avgRadiation': 0.0162, 'prRate': 0.9175}, {'periodTime': '2023-05-27T19:00:00+08:00', 'intervalAcKwh': 0.0, 'avgPower': 0.0, 'avgRadiation': 0.0, 'prRate': 0.0}, {'periodTime': '2023-05-28T06:00:00+08:00', 'intervalAcKwh': 2784.48, 'avgPower': 0.13, 'avgRadiation': 0.1332, 'prRate': 0.9876}, {'periodTime': '2023-05-28T07:00:00+08:00', 'intervalAcKwh': 5319.21, 'avgPower': 0.25, 'avgRadiation': 0.257, 'prRate': 0.9778}, {'periodTime': '2023-05-28T08:00:00+08:00', 'intervalAcKwh': 9443.19, 'avgPower': 0.45, 'avgRadiation': 0.5054, 'prRate': 0.8827}, {'periodTime': '2023-05-28T09:00:00+08:00', 'intervalAcKwh': 12378.47, 'avgPower': 0.58, 'avgRadiation': 0.5999, 'prRate': 0.9748}, {'periodTime': '2023-05-28T10:00:00+08:00', 'intervalAcKwh': 15960.99, 'avgPower': 0.75, 'avgRadiation': 0.8434, 'prRate': 0.894}, {'periodTime': '2023-05-28T11:00:00+08:00', 'intervalAcKwh': 12062.09, 'avgPower': 0.57, 'avgRadiation': 0.9124, 'prRate': 0.6245}, {'periodTime': '2023-05-28T12:00:00+08:00', 'intervalAcKwh': 8822.56, 'avgPower': 0.42, 'avgRadiation': 0.9183, 'prRate': 0.4539}, {'periodTime': '2023-05-28T13:00:00+08:00', 'intervalAcKwh': 8463.87, 'avgPower': 0.4, 'avgRadiation': 0.8594, 'prRate': 0.4653}, {'periodTime': '2023-05-28T14:00:00+08:00', 'intervalAcKwh': 13155.19, 'avgPower': 0.62, 'avgRadiation': 0.7332, 'prRate': 0.8476}, {'periodTime': '2023-05-28T15:00:00+08:00', 'intervalAcKwh': 10752.64, 'avgPower': 0.51, 'avgRadiation': 0.5542, 'prRate': 0.9166}, {'periodTime': '2023-05-28T16:00:00+08:00', 'intervalAcKwh': 6721.03, 'avgPower': 0.32, 'avgRadiation': 0.3414, 'prRate': 0.93}, {'periodTime': '2023-05-28T17:00:00+08:00', 'intervalAcKwh': 2495.15, 'avgPower': 0.12, 'avgRadiation': 0.1337, 'prRate': 0.8816}, {'periodTime': '2023-05-28T18:00:00+08:00', 'intervalAcKwh': 325.62, 'avgPower': 0.02, 'avgRadiation': 0.0158, 'prRate': 0.9736}, {'periodTime': '2023-05-28T19:00:00+08:00', 'intervalAcKwh': 0.0, 'avgPower': 0.0, 'avgRadiation': 0.0, 'prRate': 0.0}, {'periodTime': '2023-05-29T06:00:00+08:00', 'intervalAcKwh': 2616.04, 'avgPower': 0.12, 'avgRadiation': 0.122, 'prRate': 1.013}, {'periodTime': '2023-05-29T07:00:00+08:00', 'intervalAcKwh': 6952.02, 'avgPower': 0.33, 'avgRadiation': 0.3638, 'prRate': 0.9028}, {'periodTime': '2023-05-29T08:00:00+08:00', 'intervalAcKwh': 7491.43, 'avgPower': 0.35, 'avgRadiation': 0.3733, 'prRate': 0.948}, {'periodTime': '2023-05-29T09:00:00+08:00', 'intervalAcKwh': 13030.24, 'avgPower': 0.62, 'avgRadiation': 0.6388, 'prRate': 0.9636}, {'periodTime': '2023-05-29T10:00:00+08:00', 'intervalAcKwh': 15606.72, 'avgPower': 0.74, 'avgRadiation': 0.8233, 'prRate': 0.8955}, {'periodTime': '2023-05-29T11:00:00+08:00', 'intervalAcKwh': 16552.77, 'avgPower': 0.78, 'avgRadiation': 0.908, 'prRate': 0.8612}, {'periodTime': '2023-05-29T12:00:00+08:00', 'intervalAcKwh': 16635.0, 'avgPower': 0.79, 'avgRadiation': 0.9134, 'prRate': 0.8604}, {'periodTime': '2023-05-29T13:00:00+08:00', 'intervalAcKwh': 15516.19, 'avgPower': 0.73, 'avgRadiation': 0.8506, 'prRate': 0.8618}, {'periodTime': '2023-05-29T14:00:00+08:00', 'intervalAcKwh': 13487.33, 'avgPower': 0.64, 'avgRadiation': 0.7242, 'prRate': 0.8798}, {'periodTime': '2023-05-29T15:00:00+08:00', 'intervalAcKwh': 9439.53, 'avgPower': 0.45, 'avgRadiation': 0.4915, 'prRate': 0.9073}, {'periodTime': '2023-05-29T16:00:00+08:00', 'intervalAcKwh': 5989.42, 'avgPower': 0.28, 'avgRadiation': 0.3268, 'prRate': 0.8658}, {'periodTime': '2023-05-29T17:00:00+08:00', 'intervalAcKwh': 2802.66, 'avgPower': 0.13, 'avgRadiation': 0.1479, 'prRate': 0.8952}, {'periodTime': '2023-05-29T18:00:00+08:00', 'intervalAcKwh': 356.26, 'avgPower': 0.02, 'avgRadiation': 0.0177, 'prRate': 0.9509}, {'periodTime': '2023-05-29T19:00:00+08:00', 'intervalAcKwh': 0.0, 'avgPower': 0.0, 'avgRadiation': 0.0, 'prRate': 0.0}, {'periodTime': '2023-05-30T06:00:00+08:00', 'intervalAcKwh': 1516.15, 'avgPower': 0.07, 'avgRadiation': 0.073, 'prRate': 0.9812}, {'periodTime': '2023-05-30T07:00:00+08:00', 'intervalAcKwh': 4076.75, 'avgPower': 0.19, 'avgRadiation': 0.197, 'prRate': 0.9776}, {'periodTime': '2023-05-30T08:00:00+08:00', 'intervalAcKwh': 9269.08, 'avgPower': 0.44, 'avgRadiation': 0.452, 'prRate': 0.9688}, {'periodTime': '2023-05-30T09:00:00+08:00', 'intervalAcKwh': 12558.29, 'avgPower': 0.59, 'avgRadiation': 0.6719, 'prRate': 0.883}, {'periodTime': '2023-05-30T10:00:00+08:00', 'intervalAcKwh': 14183.84, 'avgPower': 0.67, 'avgRadiation': 0.7492, 'prRate': 0.8944}, {'periodTime': '2023-05-30T11:00:00+08:00', 'intervalAcKwh': 16273.59, 'avgPower': 0.77, 'avgRadiation': 0.8872, 'prRate': 0.8665}, {'periodTime': '2023-05-30T12:00:00+08:00', 'intervalAcKwh': 16424.05, 'avgPower': 0.78, 'avgRadiation': 0.886, 'prRate': 0.8757}, {'periodTime': '2023-05-30T13:00:00+08:00', 'intervalAcKwh': 15336.62, 'avgPower': 0.72, 'avgRadiation': 0.8266, 'prRate': 0.8765}, {'periodTime': '2023-05-30T14:00:00+08:00', 'intervalAcKwh': 13157.93, 'avgPower': 0.62, 'avgRadiation': 0.7002, 'prRate': 0.8877}, {'periodTime': '2023-05-30T15:00:00+08:00', 'intervalAcKwh': 10102.59, 'avgPower': 0.48, 'avgRadiation': 0.525, 'prRate': 0.9091}, {'periodTime': '2023-05-30T16:00:00+08:00', 'intervalAcKwh': 6359.55, 'avgPower': 0.3, 'avgRadiation': 0.3301, 'prRate': 0.9101}, {'periodTime': '2023-05-30T17:00:00+08:00', 'intervalAcKwh': 2511.51, 'avgPower': 0.12, 'avgRadiation': 0.135, 'prRate': 0.8789}, {'periodTime': '2023-05-30T18:00:00+08:00', 'intervalAcKwh': 355.13, 'avgPower': 0.02, 'avgRadiation': 0.0191, 'prRate': 0.8784}, {'periodTime': '2023-05-30T19:00:00+08:00', 'intervalAcKwh': 0.0, 'avgPower': 0.0, 'avgRadiation': 0.0, 'prRate': 0.0}, {'periodTime': '2023-05-31T06:00:00+08:00', 'intervalAcKwh': 2477.8, 'avgPower': 0.12, 'avgRadiation': 0.121, 'prRate': 0.9674}, {'periodTime': '2023-05-31T07:00:00+08:00', 'intervalAcKwh': 6022.4, 'avgPower': 0.28, 'avgRadiation': 0.2957, 'prRate': 0.9621}, {'periodTime': '2023-05-31T08:00:00+08:00', 'intervalAcKwh': 8089.01, 'avgPower': 0.38, 'avgRadiation': 0.4208, 'prRate': 0.9081}, {'periodTime': '2023-05-31T09:00:00+08:00', 'intervalAcKwh': 12202.75, 'avgPower': 0.58, 'avgRadiation': 0.619, 'prRate': 0.9313}, {'periodTime': '2023-05-31T10:00:00+08:00', 'intervalAcKwh': 12853.06, 'avgPower': 0.61, 'avgRadiation': 0.7318, 'prRate': 0.8297}, {'periodTime': '2023-05-31T11:00:00+08:00', 'intervalAcKwh': 13877.89, 'avgPower': 0.66, 'avgRadiation': 0.7392, 'prRate': 0.8869}, {'periodTime': '2023-05-31T12:00:00+08:00', 'intervalAcKwh': 11358.42, 'avgPower': 0.54, 'avgRadiation': 0.6075, 'prRate': 0.8833}, {'periodTime': '2023-05-31T13:00:00+08:00', 'intervalAcKwh': 13850.63, 'avgPower': 0.65, 'avgRadiation': 0.755, 'prRate': 0.8667}, {'periodTime': '2023-05-31T14:00:00+08:00', 'intervalAcKwh': 7801.45, 'avgPower': 0.37, 'avgRadiation': 0.4592, 'prRate': 0.8026}, {'periodTime': '2023-05-31T15:00:00+08:00', 'intervalAcKwh': 8967.3, 'avgPower': 0.42, 'avgRadiation': 0.438, 'prRate': 0.9672}, {'periodTime': '2023-05-31T16:00:00+08:00', 'intervalAcKwh': 2913.33, 'avgPower': 0.14, 'avgRadiation': 0.1572, 'prRate': 0.8755}, {'periodTime': '2023-05-31T17:00:00+08:00', 'intervalAcKwh': 1380.43, 'avgPower': 0.07, 'avgRadiation': 0.0671, 'prRate': 0.9719}, {'periodTime': '2023-05-31T18:00:00+08:00', 'intervalAcKwh': 203.12, 'avgPower': 0.01, 'avgRadiation': 0.0122, 'prRate': 0.7865}, {'periodTime': '2023-05-31T19:00:00+08:00', 'intervalAcKwh': 0.0, 'avgPower': 0.0, 'avgRadiation': 0.0, 'prRate': 0.0}]}]\n"
     ]
    }
   ],
   "source": [
    "import requests\n",
    "\n",
    "url = \"https://solar-api.hdre.energy/getPlantHourly\"\n",
    "params = {\n",
    "    \"plantNo\": \"T20A65G101\",\n",
    "    \"timeTo\": \"2023-06-01 00:00:00\",\n",
    "    \"timeFrom\": \"2023-05-01 00:00:00\"\n",
    "}\n",
    "\n",
    "headers = {\n",
    "    \"accept\": \"application/json\",\n",
    "    \"x-api-key\": \"iVz55YLEFMa23pZb5Zj095sXOXjTnErj7pZ8SdMs\"\n",
    "}\n",
    "\n",
    "try:\n",
    "    response = requests.get(url, params=params, headers=headers)\n",
    "\n",
    "    if response.status_code == 200:\n",
    "        # Successful request\n",
    "        data = response.json()\n",
    "        print(data)\n",
    "    else:\n",
    "        # Print error message if request was not successful\n",
    "        print(f\"Error: {response.status_code} - {response.text}\")\n",
    "\n",
    "except requests.RequestException as e:\n",
    "    print(f\"Request failed: {e}\")\n"
   ]
  },
  {
   "cell_type": "code",
   "execution_count": 168,
   "metadata": {},
   "outputs": [
    {
     "name": "stdout",
     "output_type": "stream",
     "text": [
      "Columns in df1: Index(['periodTime', 'intervalAcKwh', 'avgPower', 'avgRadiation', 'prRate',\n",
      "       'formatted_periodTime'],\n",
      "      dtype='object')\n",
      "Columns in df2: Index(['formatted_periodTime', 'intervalAcKwh'], dtype='object')\n"
     ]
    },
    {
     "data": {
      "application/vnd.plotly.v1+json": {
       "config": {
        "plotlyServerURL": "https://plot.ly"
       },
       "data": [
        {
         "alignmentgroup": "True",
         "hovertemplate": "formatted_periodTime=%{x}<br>intervalAcKwh_df2=%{y}<extra></extra>",
         "legendgroup": "",
         "marker": {
          "color": "#636efa",
          "pattern": {
           "shape": ""
          }
         },
         "name": "",
         "offsetgroup": "",
         "orientation": "v",
         "showlegend": false,
         "textposition": "auto",
         "type": "bar",
         "x": [
          "2023/05/01 00:00:00",
          "2023/05/01 01:00:00",
          "2023/05/01 02:00:00",
          "2023/05/01 03:00:00",
          "2023/05/01 04:00:00",
          "2023/05/01 05:00:00",
          "2023/05/01 06:00:00",
          "2023/05/01 07:00:00",
          "2023/05/01 08:00:00",
          "2023/05/01 09:00:00",
          "2023/05/01 10:00:00",
          "2023/05/01 11:00:00",
          "2023/05/01 12:00:00",
          "2023/05/01 13:00:00",
          "2023/05/01 14:00:00",
          "2023/05/01 15:00:00",
          "2023/05/01 16:00:00",
          "2023/05/01 17:00:00",
          "2023/05/01 18:00:00",
          "2023/05/01 19:00:00",
          "2023/05/01 20:00:00",
          "2023/05/01 21:00:00",
          "2023/05/01 22:00:00",
          "2023/05/01 23:00:00",
          "2023/05/02 00:00:00",
          "2023/05/02 01:00:00",
          "2023/05/02 02:00:00",
          "2023/05/02 03:00:00",
          "2023/05/02 04:00:00",
          "2023/05/02 05:00:00",
          "2023/05/02 06:00:00",
          "2023/05/02 07:00:00",
          "2023/05/02 08:00:00",
          "2023/05/02 09:00:00",
          "2023/05/02 10:00:00",
          "2023/05/02 11:00:00",
          "2023/05/02 12:00:00",
          "2023/05/02 13:00:00",
          "2023/05/02 14:00:00",
          "2023/05/02 15:00:00",
          "2023/05/02 16:00:00",
          "2023/05/02 17:00:00",
          "2023/05/02 18:00:00",
          "2023/05/02 19:00:00",
          "2023/05/02 20:00:00",
          "2023/05/02 21:00:00",
          "2023/05/02 22:00:00",
          "2023/05/02 23:00:00",
          "2023/05/03 00:00:00",
          "2023/05/03 01:00:00",
          "2023/05/03 02:00:00",
          "2023/05/03 03:00:00",
          "2023/05/03 04:00:00",
          "2023/05/03 05:00:00",
          "2023/05/03 06:00:00",
          "2023/05/03 07:00:00",
          "2023/05/03 08:00:00",
          "2023/05/03 09:00:00",
          "2023/05/03 10:00:00",
          "2023/05/03 11:00:00",
          "2023/05/03 12:00:00",
          "2023/05/03 13:00:00",
          "2023/05/03 14:00:00",
          "2023/05/03 15:00:00",
          "2023/05/03 16:00:00",
          "2023/05/03 17:00:00",
          "2023/05/03 18:00:00",
          "2023/05/03 19:00:00",
          "2023/05/03 20:00:00",
          "2023/05/03 21:00:00",
          "2023/05/03 22:00:00",
          "2023/05/03 23:00:00",
          "2023/05/04 00:00:00",
          "2023/05/04 01:00:00",
          "2023/05/04 02:00:00",
          "2023/05/04 03:00:00",
          "2023/05/04 04:00:00",
          "2023/05/04 05:00:00",
          "2023/05/04 06:00:00",
          "2023/05/04 07:00:00",
          "2023/05/04 08:00:00",
          "2023/05/04 09:00:00",
          "2023/05/04 10:00:00",
          "2023/05/04 11:00:00",
          "2023/05/04 12:00:00",
          "2023/05/04 13:00:00",
          "2023/05/04 14:00:00",
          "2023/05/04 15:00:00",
          "2023/05/04 16:00:00",
          "2023/05/04 17:00:00",
          "2023/05/04 18:00:00",
          "2023/05/04 19:00:00",
          "2023/05/04 20:00:00",
          "2023/05/04 21:00:00",
          "2023/05/04 22:00:00",
          "2023/05/04 23:00:00",
          "2023/05/05 00:00:00",
          "2023/05/05 01:00:00",
          "2023/05/05 02:00:00",
          "2023/05/05 03:00:00",
          "2023/05/05 04:00:00",
          "2023/05/05 05:00:00",
          "2023/05/05 06:00:00",
          "2023/05/05 07:00:00",
          "2023/05/05 08:00:00",
          "2023/05/05 09:00:00",
          "2023/05/05 10:00:00",
          "2023/05/05 11:00:00",
          "2023/05/05 12:00:00",
          "2023/05/05 13:00:00",
          "2023/05/05 14:00:00",
          "2023/05/05 15:00:00",
          "2023/05/05 16:00:00",
          "2023/05/05 17:00:00",
          "2023/05/05 18:00:00",
          "2023/05/05 19:00:00",
          "2023/05/05 20:00:00",
          "2023/05/05 21:00:00",
          "2023/05/05 22:00:00",
          "2023/05/05 23:00:00",
          "2023/05/06 00:00:00",
          "2023/05/06 01:00:00",
          "2023/05/06 02:00:00",
          "2023/05/06 03:00:00",
          "2023/05/06 04:00:00",
          "2023/05/06 05:00:00",
          "2023/05/06 06:00:00",
          "2023/05/06 07:00:00",
          "2023/05/06 08:00:00",
          "2023/05/06 09:00:00",
          "2023/05/06 10:00:00",
          "2023/05/06 11:00:00",
          "2023/05/06 12:00:00",
          "2023/05/06 13:00:00",
          "2023/05/06 14:00:00",
          "2023/05/06 15:00:00",
          "2023/05/06 16:00:00",
          "2023/05/06 17:00:00",
          "2023/05/06 18:00:00",
          "2023/05/06 19:00:00",
          "2023/05/06 20:00:00",
          "2023/05/06 21:00:00",
          "2023/05/06 22:00:00",
          "2023/05/06 23:00:00",
          "2023/05/07 00:00:00",
          "2023/05/07 01:00:00",
          "2023/05/07 02:00:00",
          "2023/05/07 03:00:00",
          "2023/05/07 04:00:00",
          "2023/05/07 05:00:00",
          "2023/05/07 06:00:00",
          "2023/05/07 07:00:00",
          "2023/05/07 08:00:00",
          "2023/05/07 09:00:00",
          "2023/05/07 10:00:00",
          "2023/05/07 11:00:00",
          "2023/05/07 12:00:00",
          "2023/05/07 13:00:00",
          "2023/05/07 14:00:00",
          "2023/05/07 15:00:00",
          "2023/05/07 16:00:00",
          "2023/05/07 17:00:00",
          "2023/05/07 18:00:00",
          "2023/05/07 19:00:00",
          "2023/05/07 20:00:00",
          "2023/05/07 21:00:00",
          "2023/05/07 22:00:00",
          "2023/05/07 23:00:00",
          "2023/05/08 00:00:00",
          "2023/05/08 01:00:00",
          "2023/05/08 02:00:00",
          "2023/05/08 03:00:00",
          "2023/05/08 04:00:00",
          "2023/05/08 05:00:00",
          "2023/05/08 06:00:00",
          "2023/05/08 07:00:00",
          "2023/05/08 08:00:00",
          "2023/05/08 09:00:00",
          "2023/05/08 10:00:00",
          "2023/05/08 11:00:00",
          "2023/05/08 12:00:00",
          "2023/05/08 13:00:00",
          "2023/05/08 14:00:00",
          "2023/05/08 15:00:00",
          "2023/05/08 16:00:00",
          "2023/05/08 17:00:00",
          "2023/05/08 18:00:00",
          "2023/05/08 19:00:00",
          "2023/05/08 20:00:00",
          "2023/05/08 21:00:00",
          "2023/05/08 22:00:00",
          "2023/05/08 23:00:00",
          "2023/05/09 00:00:00",
          "2023/05/09 01:00:00",
          "2023/05/09 02:00:00",
          "2023/05/09 03:00:00",
          "2023/05/09 04:00:00",
          "2023/05/09 05:00:00",
          "2023/05/09 06:00:00",
          "2023/05/09 07:00:00",
          "2023/05/09 08:00:00",
          "2023/05/09 09:00:00",
          "2023/05/09 10:00:00",
          "2023/05/09 11:00:00",
          "2023/05/09 12:00:00",
          "2023/05/09 13:00:00",
          "2023/05/09 14:00:00",
          "2023/05/09 15:00:00",
          "2023/05/09 16:00:00",
          "2023/05/09 17:00:00",
          "2023/05/09 18:00:00",
          "2023/05/09 19:00:00",
          "2023/05/09 20:00:00",
          "2023/05/09 21:00:00",
          "2023/05/09 22:00:00",
          "2023/05/09 23:00:00",
          "2023/05/10 00:00:00",
          "2023/05/10 01:00:00",
          "2023/05/10 02:00:00",
          "2023/05/10 03:00:00",
          "2023/05/10 04:00:00",
          "2023/05/10 05:00:00",
          "2023/05/10 06:00:00",
          "2023/05/10 07:00:00",
          "2023/05/10 08:00:00",
          "2023/05/10 09:00:00",
          "2023/05/10 10:00:00",
          "2023/05/10 11:00:00",
          "2023/05/10 12:00:00",
          "2023/05/10 13:00:00",
          "2023/05/10 14:00:00",
          "2023/05/10 15:00:00",
          "2023/05/10 16:00:00",
          "2023/05/10 17:00:00",
          "2023/05/10 18:00:00",
          "2023/05/10 19:00:00",
          "2023/05/10 20:00:00",
          "2023/05/10 21:00:00",
          "2023/05/10 22:00:00",
          "2023/05/10 23:00:00",
          "2023/05/11 00:00:00",
          "2023/05/11 01:00:00",
          "2023/05/11 02:00:00",
          "2023/05/11 03:00:00",
          "2023/05/11 04:00:00",
          "2023/05/11 05:00:00",
          "2023/05/11 06:00:00",
          "2023/05/11 07:00:00",
          "2023/05/11 08:00:00",
          "2023/05/11 09:00:00",
          "2023/05/11 10:00:00",
          "2023/05/11 11:00:00",
          "2023/05/11 12:00:00",
          "2023/05/11 13:00:00",
          "2023/05/11 14:00:00",
          "2023/05/11 15:00:00",
          "2023/05/11 16:00:00",
          "2023/05/11 17:00:00",
          "2023/05/11 18:00:00",
          "2023/05/11 19:00:00",
          "2023/05/11 20:00:00",
          "2023/05/11 21:00:00",
          "2023/05/11 22:00:00",
          "2023/05/11 23:00:00",
          "2023/05/12 00:00:00",
          "2023/05/12 01:00:00",
          "2023/05/12 02:00:00",
          "2023/05/12 03:00:00",
          "2023/05/12 04:00:00",
          "2023/05/12 05:00:00",
          "2023/05/12 06:00:00",
          "2023/05/12 07:00:00",
          "2023/05/12 08:00:00",
          "2023/05/12 09:00:00",
          "2023/05/12 10:00:00",
          "2023/05/12 11:00:00",
          "2023/05/12 12:00:00",
          "2023/05/12 13:00:00",
          "2023/05/12 14:00:00",
          "2023/05/12 15:00:00",
          "2023/05/12 16:00:00",
          "2023/05/12 17:00:00",
          "2023/05/12 18:00:00",
          "2023/05/12 19:00:00",
          "2023/05/12 20:00:00",
          "2023/05/12 21:00:00",
          "2023/05/12 22:00:00",
          "2023/05/12 23:00:00",
          "2023/05/13 00:00:00",
          "2023/05/13 01:00:00",
          "2023/05/13 02:00:00",
          "2023/05/13 03:00:00",
          "2023/05/13 04:00:00",
          "2023/05/13 05:00:00",
          "2023/05/13 06:00:00",
          "2023/05/13 07:00:00",
          "2023/05/13 08:00:00",
          "2023/05/13 09:00:00",
          "2023/05/13 10:00:00",
          "2023/05/13 11:00:00",
          "2023/05/13 12:00:00",
          "2023/05/13 13:00:00",
          "2023/05/13 14:00:00",
          "2023/05/13 15:00:00",
          "2023/05/13 16:00:00",
          "2023/05/13 17:00:00",
          "2023/05/13 18:00:00",
          "2023/05/13 19:00:00",
          "2023/05/13 20:00:00",
          "2023/05/13 21:00:00",
          "2023/05/13 22:00:00",
          "2023/05/13 23:00:00",
          "2023/05/14 00:00:00",
          "2023/05/14 01:00:00",
          "2023/05/14 02:00:00",
          "2023/05/14 03:00:00",
          "2023/05/14 04:00:00",
          "2023/05/14 05:00:00",
          "2023/05/14 06:00:00",
          "2023/05/14 07:00:00",
          "2023/05/14 08:00:00",
          "2023/05/14 09:00:00",
          "2023/05/14 10:00:00",
          "2023/05/14 11:00:00",
          "2023/05/14 12:00:00",
          "2023/05/14 13:00:00",
          "2023/05/14 14:00:00",
          "2023/05/14 15:00:00",
          "2023/05/14 16:00:00",
          "2023/05/14 17:00:00",
          "2023/05/14 18:00:00",
          "2023/05/14 19:00:00",
          "2023/05/14 20:00:00",
          "2023/05/14 21:00:00",
          "2023/05/14 22:00:00",
          "2023/05/14 23:00:00",
          "2023/05/15 00:00:00",
          "2023/05/15 01:00:00",
          "2023/05/15 02:00:00",
          "2023/05/15 03:00:00",
          "2023/05/15 04:00:00",
          "2023/05/15 05:00:00",
          "2023/05/15 06:00:00",
          "2023/05/15 07:00:00",
          "2023/05/15 08:00:00",
          "2023/05/15 09:00:00",
          "2023/05/15 10:00:00",
          "2023/05/15 11:00:00",
          "2023/05/15 12:00:00",
          "2023/05/15 13:00:00",
          "2023/05/15 14:00:00",
          "2023/05/15 15:00:00",
          "2023/05/15 16:00:00",
          "2023/05/15 17:00:00",
          "2023/05/15 18:00:00",
          "2023/05/15 19:00:00",
          "2023/05/15 20:00:00",
          "2023/05/15 21:00:00",
          "2023/05/15 22:00:00",
          "2023/05/15 23:00:00",
          "2023/05/16 00:00:00",
          "2023/05/16 01:00:00",
          "2023/05/16 02:00:00",
          "2023/05/16 03:00:00",
          "2023/05/16 04:00:00",
          "2023/05/16 05:00:00",
          "2023/05/16 06:00:00",
          "2023/05/16 07:00:00",
          "2023/05/16 08:00:00",
          "2023/05/16 09:00:00",
          "2023/05/16 10:00:00",
          "2023/05/16 11:00:00",
          "2023/05/16 12:00:00",
          "2023/05/16 13:00:00",
          "2023/05/16 14:00:00",
          "2023/05/16 15:00:00",
          "2023/05/16 16:00:00",
          "2023/05/16 17:00:00",
          "2023/05/16 18:00:00",
          "2023/05/16 19:00:00",
          "2023/05/16 20:00:00",
          "2023/05/16 21:00:00",
          "2023/05/16 22:00:00",
          "2023/05/16 23:00:00",
          "2023/05/17 00:00:00",
          "2023/05/17 01:00:00",
          "2023/05/17 02:00:00",
          "2023/05/17 03:00:00",
          "2023/05/17 04:00:00",
          "2023/05/17 05:00:00",
          "2023/05/17 06:00:00",
          "2023/05/17 07:00:00",
          "2023/05/17 08:00:00",
          "2023/05/17 09:00:00",
          "2023/05/17 10:00:00",
          "2023/05/17 11:00:00",
          "2023/05/17 12:00:00",
          "2023/05/17 13:00:00",
          "2023/05/17 14:00:00",
          "2023/05/17 15:00:00",
          "2023/05/17 16:00:00",
          "2023/05/17 17:00:00",
          "2023/05/17 18:00:00",
          "2023/05/17 19:00:00",
          "2023/05/17 20:00:00",
          "2023/05/17 21:00:00",
          "2023/05/17 22:00:00",
          "2023/05/17 23:00:00",
          "2023/05/18 00:00:00",
          "2023/05/18 01:00:00",
          "2023/05/18 02:00:00",
          "2023/05/18 03:00:00",
          "2023/05/18 04:00:00",
          "2023/05/18 05:00:00",
          "2023/05/18 06:00:00",
          "2023/05/18 07:00:00",
          "2023/05/18 08:00:00",
          "2023/05/18 09:00:00",
          "2023/05/18 10:00:00",
          "2023/05/18 11:00:00",
          "2023/05/18 12:00:00",
          "2023/05/18 13:00:00",
          "2023/05/18 14:00:00",
          "2023/05/18 15:00:00",
          "2023/05/18 16:00:00",
          "2023/05/18 17:00:00",
          "2023/05/18 18:00:00",
          "2023/05/18 19:00:00",
          "2023/05/18 20:00:00",
          "2023/05/18 21:00:00",
          "2023/05/18 22:00:00",
          "2023/05/18 23:00:00",
          "2023/05/19 00:00:00",
          "2023/05/19 01:00:00",
          "2023/05/19 02:00:00",
          "2023/05/19 03:00:00",
          "2023/05/19 04:00:00",
          "2023/05/19 05:00:00",
          "2023/05/19 06:00:00",
          "2023/05/19 07:00:00",
          "2023/05/19 08:00:00",
          "2023/05/19 09:00:00",
          "2023/05/19 10:00:00",
          "2023/05/19 11:00:00",
          "2023/05/19 12:00:00",
          "2023/05/19 13:00:00",
          "2023/05/19 14:00:00",
          "2023/05/19 15:00:00",
          "2023/05/19 16:00:00",
          "2023/05/19 17:00:00",
          "2023/05/19 18:00:00",
          "2023/05/19 19:00:00",
          "2023/05/19 20:00:00",
          "2023/05/19 21:00:00",
          "2023/05/19 22:00:00",
          "2023/05/19 23:00:00",
          "2023/05/20 00:00:00",
          "2023/05/20 01:00:00",
          "2023/05/20 02:00:00",
          "2023/05/20 03:00:00",
          "2023/05/20 04:00:00",
          "2023/05/20 05:00:00",
          "2023/05/20 06:00:00",
          "2023/05/20 07:00:00",
          "2023/05/20 08:00:00",
          "2023/05/20 09:00:00",
          "2023/05/20 10:00:00",
          "2023/05/20 11:00:00",
          "2023/05/20 12:00:00",
          "2023/05/20 13:00:00",
          "2023/05/20 14:00:00",
          "2023/05/20 15:00:00",
          "2023/05/20 16:00:00",
          "2023/05/20 17:00:00",
          "2023/05/20 18:00:00",
          "2023/05/20 19:00:00",
          "2023/05/20 20:00:00",
          "2023/05/20 21:00:00",
          "2023/05/20 22:00:00",
          "2023/05/20 23:00:00",
          "2023/05/21 00:00:00",
          "2023/05/21 01:00:00",
          "2023/05/21 02:00:00",
          "2023/05/21 03:00:00",
          "2023/05/21 04:00:00",
          "2023/05/21 05:00:00",
          "2023/05/21 06:00:00",
          "2023/05/21 07:00:00",
          "2023/05/21 08:00:00",
          "2023/05/21 09:00:00",
          "2023/05/21 10:00:00",
          "2023/05/21 11:00:00",
          "2023/05/21 12:00:00",
          "2023/05/21 13:00:00",
          "2023/05/21 14:00:00",
          "2023/05/21 15:00:00",
          "2023/05/21 16:00:00",
          "2023/05/21 17:00:00",
          "2023/05/21 18:00:00",
          "2023/05/21 19:00:00",
          "2023/05/21 20:00:00",
          "2023/05/21 21:00:00",
          "2023/05/21 22:00:00",
          "2023/05/21 23:00:00",
          "2023/05/22 00:00:00",
          "2023/05/22 01:00:00",
          "2023/05/22 02:00:00",
          "2023/05/22 03:00:00",
          "2023/05/22 04:00:00",
          "2023/05/22 05:00:00",
          "2023/05/22 06:00:00",
          "2023/05/22 07:00:00",
          "2023/05/22 08:00:00",
          "2023/05/22 09:00:00",
          "2023/05/22 10:00:00",
          "2023/05/22 11:00:00",
          "2023/05/22 12:00:00",
          "2023/05/22 13:00:00",
          "2023/05/22 14:00:00",
          "2023/05/22 15:00:00",
          "2023/05/22 16:00:00",
          "2023/05/22 17:00:00",
          "2023/05/22 18:00:00",
          "2023/05/22 19:00:00",
          "2023/05/22 20:00:00",
          "2023/05/22 21:00:00",
          "2023/05/22 22:00:00",
          "2023/05/22 23:00:00",
          "2023/05/23 00:00:00",
          "2023/05/23 01:00:00",
          "2023/05/23 02:00:00",
          "2023/05/23 03:00:00",
          "2023/05/23 04:00:00",
          "2023/05/23 05:00:00",
          "2023/05/23 06:00:00",
          "2023/05/23 07:00:00",
          "2023/05/23 08:00:00",
          "2023/05/23 09:00:00",
          "2023/05/23 10:00:00",
          "2023/05/23 11:00:00",
          "2023/05/23 12:00:00",
          "2023/05/23 13:00:00",
          "2023/05/23 14:00:00",
          "2023/05/23 15:00:00",
          "2023/05/23 16:00:00",
          "2023/05/23 17:00:00",
          "2023/05/23 18:00:00",
          "2023/05/23 19:00:00",
          "2023/05/23 20:00:00",
          "2023/05/23 21:00:00",
          "2023/05/23 22:00:00",
          "2023/05/23 23:00:00",
          "2023/05/24 00:00:00",
          "2023/05/24 01:00:00",
          "2023/05/24 02:00:00",
          "2023/05/24 03:00:00",
          "2023/05/24 04:00:00",
          "2023/05/24 05:00:00",
          "2023/05/24 06:00:00",
          "2023/05/24 07:00:00",
          "2023/05/24 08:00:00",
          "2023/05/24 09:00:00",
          "2023/05/24 10:00:00",
          "2023/05/24 11:00:00",
          "2023/05/24 12:00:00",
          "2023/05/24 13:00:00",
          "2023/05/24 14:00:00",
          "2023/05/24 15:00:00",
          "2023/05/24 16:00:00",
          "2023/05/24 17:00:00",
          "2023/05/24 18:00:00",
          "2023/05/24 19:00:00",
          "2023/05/24 20:00:00",
          "2023/05/24 21:00:00",
          "2023/05/24 22:00:00",
          "2023/05/24 23:00:00",
          "2023/05/25 00:00:00",
          "2023/05/25 01:00:00",
          "2023/05/25 02:00:00",
          "2023/05/25 03:00:00",
          "2023/05/25 04:00:00",
          "2023/05/25 05:00:00",
          "2023/05/25 06:00:00",
          "2023/05/25 07:00:00",
          "2023/05/25 08:00:00",
          "2023/05/25 09:00:00",
          "2023/05/25 10:00:00",
          "2023/05/25 11:00:00",
          "2023/05/25 12:00:00",
          "2023/05/25 13:00:00",
          "2023/05/25 14:00:00",
          "2023/05/25 15:00:00",
          "2023/05/25 16:00:00",
          "2023/05/25 17:00:00",
          "2023/05/25 18:00:00",
          "2023/05/25 19:00:00",
          "2023/05/25 20:00:00",
          "2023/05/25 21:00:00",
          "2023/05/25 22:00:00",
          "2023/05/25 23:00:00",
          "2023/05/26 00:00:00",
          "2023/05/26 01:00:00",
          "2023/05/26 02:00:00",
          "2023/05/26 03:00:00",
          "2023/05/26 04:00:00",
          "2023/05/26 05:00:00",
          "2023/05/26 06:00:00",
          "2023/05/26 07:00:00",
          "2023/05/26 08:00:00",
          "2023/05/26 09:00:00",
          "2023/05/26 10:00:00",
          "2023/05/26 11:00:00",
          "2023/05/26 12:00:00",
          "2023/05/26 13:00:00",
          "2023/05/26 14:00:00",
          "2023/05/26 15:00:00",
          "2023/05/26 16:00:00",
          "2023/05/26 17:00:00",
          "2023/05/26 18:00:00",
          "2023/05/26 19:00:00",
          "2023/05/26 20:00:00",
          "2023/05/26 21:00:00",
          "2023/05/26 22:00:00",
          "2023/05/26 23:00:00",
          "2023/05/27 00:00:00",
          "2023/05/27 01:00:00",
          "2023/05/27 02:00:00",
          "2023/05/27 03:00:00",
          "2023/05/27 04:00:00",
          "2023/05/27 05:00:00",
          "2023/05/27 06:00:00",
          "2023/05/27 07:00:00",
          "2023/05/27 08:00:00",
          "2023/05/27 09:00:00",
          "2023/05/27 10:00:00",
          "2023/05/27 11:00:00",
          "2023/05/27 12:00:00",
          "2023/05/27 13:00:00",
          "2023/05/27 14:00:00",
          "2023/05/27 15:00:00",
          "2023/05/27 16:00:00",
          "2023/05/27 17:00:00",
          "2023/05/27 18:00:00",
          "2023/05/27 19:00:00",
          "2023/05/27 20:00:00",
          "2023/05/27 21:00:00",
          "2023/05/27 22:00:00",
          "2023/05/27 23:00:00",
          "2023/05/28 00:00:00",
          "2023/05/28 01:00:00",
          "2023/05/28 02:00:00",
          "2023/05/28 03:00:00",
          "2023/05/28 04:00:00",
          "2023/05/28 05:00:00",
          "2023/05/28 06:00:00",
          "2023/05/28 07:00:00",
          "2023/05/28 08:00:00",
          "2023/05/28 09:00:00",
          "2023/05/28 10:00:00",
          "2023/05/28 11:00:00",
          "2023/05/28 12:00:00",
          "2023/05/28 13:00:00",
          "2023/05/28 14:00:00",
          "2023/05/28 15:00:00",
          "2023/05/28 16:00:00",
          "2023/05/28 17:00:00",
          "2023/05/28 18:00:00",
          "2023/05/28 19:00:00",
          "2023/05/28 20:00:00",
          "2023/05/28 21:00:00",
          "2023/05/28 22:00:00",
          "2023/05/28 23:00:00",
          "2023/05/29 00:00:00",
          "2023/05/29 01:00:00",
          "2023/05/29 02:00:00",
          "2023/05/29 03:00:00",
          "2023/05/29 04:00:00",
          "2023/05/29 05:00:00",
          "2023/05/29 06:00:00",
          "2023/05/29 07:00:00",
          "2023/05/29 08:00:00",
          "2023/05/29 09:00:00",
          "2023/05/29 10:00:00",
          "2023/05/29 11:00:00",
          "2023/05/29 12:00:00",
          "2023/05/29 13:00:00",
          "2023/05/29 14:00:00",
          "2023/05/29 15:00:00",
          "2023/05/29 16:00:00",
          "2023/05/29 17:00:00",
          "2023/05/29 18:00:00",
          "2023/05/29 19:00:00",
          "2023/05/29 20:00:00",
          "2023/05/29 21:00:00",
          "2023/05/29 22:00:00",
          "2023/05/29 23:00:00",
          "2023/05/30 00:00:00",
          "2023/05/30 01:00:00",
          "2023/05/30 02:00:00",
          "2023/05/30 03:00:00",
          "2023/05/30 04:00:00",
          "2023/05/30 05:00:00",
          "2023/05/30 06:00:00",
          "2023/05/30 07:00:00",
          "2023/05/30 08:00:00",
          "2023/05/30 09:00:00",
          "2023/05/30 10:00:00",
          "2023/05/30 11:00:00",
          "2023/05/30 12:00:00",
          "2023/05/30 13:00:00",
          "2023/05/30 14:00:00",
          "2023/05/30 15:00:00",
          "2023/05/30 16:00:00",
          "2023/05/30 17:00:00",
          "2023/05/30 18:00:00",
          "2023/05/30 19:00:00",
          "2023/05/30 20:00:00",
          "2023/05/30 21:00:00",
          "2023/05/30 22:00:00",
          "2023/05/30 23:00:00",
          "2023/05/31 00:00:00",
          "2023/05/31 01:00:00",
          "2023/05/31 02:00:00",
          "2023/05/31 03:00:00",
          "2023/05/31 04:00:00",
          "2023/05/31 05:00:00",
          "2023/05/31 06:00:00",
          "2023/05/31 07:00:00",
          "2023/05/31 08:00:00",
          "2023/05/31 09:00:00",
          "2023/05/31 10:00:00",
          "2023/05/31 11:00:00",
          "2023/05/31 12:00:00",
          "2023/05/31 13:00:00",
          "2023/05/31 14:00:00",
          "2023/05/31 15:00:00",
          "2023/05/31 16:00:00",
          "2023/05/31 17:00:00",
          "2023/05/31 18:00:00",
          "2023/05/31 19:00:00",
          "2023/05/31 20:00:00",
          "2023/05/31 21:00:00",
          "2023/05/31 22:00:00",
          "2023/05/31 23:00:00",
          "2023/06/01 00:00:00"
         ],
         "xaxis": "x",
         "y": [
          0,
          0,
          0,
          0,
          0,
          0,
          1899.29,
          5692.9,
          9935.51,
          12758.7,
          14700.79,
          16661.03,
          16330.86,
          15127.42,
          12992.99,
          8720.91,
          5794.38,
          1538.63,
          208.07,
          0,
          0,
          0,
          0,
          0,
          0,
          0,
          0,
          0,
          0,
          0,
          1538.1,
          5988.41,
          10265.69,
          13429.21,
          15634.1,
          16693.99,
          16533.72,
          14749.09,
          13220.01,
          9964.98,
          5436.3,
          2459.18,
          168.93,
          0,
          0,
          0,
          0,
          0,
          0,
          0,
          0,
          0,
          0,
          0,
          1286.39,
          4470.99,
          7290.3,
          12343.3,
          15366.3,
          15460.71,
          16120.3,
          13149.21,
          13185.98,
          6897.82,
          3731.9,
          1851.51,
          155.29,
          0,
          0,
          0,
          0,
          0,
          0,
          0,
          0,
          0,
          0,
          0,
          2120.92,
          6362.89,
          10547.81,
          13537.17,
          15593.91,
          16608.9,
          16728.13,
          15530.59,
          13559.11,
          10435.58,
          6348.03,
          2160.25,
          173.66,
          0,
          0,
          0,
          0,
          0,
          0,
          0,
          0,
          0,
          0,
          0,
          2293.29,
          6668.81,
          10654.11,
          12714.28,
          15798.11,
          16676.84,
          16637.34,
          15600.95,
          13524.97,
          10437.81,
          4851.69,
          1891.8,
          88.59,
          0,
          0,
          0,
          0,
          0,
          0,
          0,
          0,
          0,
          0,
          0,
          2352,
          6751.8,
          10645.48,
          13539.64,
          15584.4,
          16550.17,
          16618.42,
          15618.01,
          13075.39,
          10130.32,
          5933.98,
          1220.46,
          98.05,
          0,
          0,
          0,
          0,
          0,
          0,
          0,
          0,
          0,
          0,
          0,
          1243.72,
          1473.99,
          955.78,
          445.3,
          311.91,
          750.72,
          3512.56,
          4831.3,
          5323.3,
          6547.81,
          1924.63,
          744.77,
          74.99,
          0,
          0,
          0,
          0,
          0,
          0,
          0,
          0,
          0,
          0,
          0,
          1300.02,
          3019.8,
          7348.98,
          13617.63,
          14190.99,
          17676.9,
          17363.58,
          11973.22,
          7719.68,
          7485.02,
          4856.37,
          1883.29,
          206.53,
          0,
          0,
          0,
          0,
          0,
          0,
          0,
          0,
          0,
          0,
          0,
          939.18,
          2772.2,
          3910.68,
          5598.12,
          3091,
          4500.2,
          7835.4,
          11696.21,
          9757.93,
          7270.7,
          5802.94,
          2282.41,
          154.14,
          0,
          0,
          0,
          0,
          0,
          0,
          0,
          0,
          0,
          0,
          0,
          2257.37,
          6432.4,
          10541.49,
          13254.03,
          14234.38,
          16525.31,
          16188.4,
          13597.47,
          10655.94,
          9810.16,
          6242.93,
          2216.7,
          180.79,
          0,
          0,
          0,
          0,
          0,
          0,
          0,
          0,
          0,
          0,
          0,
          1614.6,
          3074.18,
          5318.42,
          7974.19,
          10940.57,
          12219.84,
          13590.58,
          14746.32,
          13645.69,
          8048.33,
          3017.57,
          974.91,
          91.4,
          0,
          0,
          0,
          0,
          0,
          0,
          0,
          0,
          0,
          0,
          0,
          1036.42,
          3567.92,
          6339.89,
          8431.27,
          11559.63,
          12506.9,
          16092.08,
          14893.12,
          12343.89,
          10231.68,
          4922.29,
          1559.85,
          156.07,
          0,
          0,
          0,
          0,
          0,
          0,
          0,
          0,
          0,
          0,
          0,
          1197.21,
          3324.79,
          5275.58,
          7381.01,
          7933.9,
          7611.8,
          7330.09,
          7270.33,
          7382.08,
          6284.82,
          2055.8,
          1415.2,
          72.58,
          0,
          0,
          0,
          0,
          0,
          0,
          0,
          0,
          0,
          0,
          0,
          356.01,
          1871.98,
          3723.23,
          5191.3,
          7508.46,
          11946.23,
          11875.4,
          4980.5,
          3750.1,
          2889.1,
          2620.78,
          1012.13,
          77.19,
          0,
          0,
          0,
          0,
          0,
          0,
          0,
          0,
          0,
          0,
          0,
          859.5,
          1340.9,
          2910.09,
          4459.43,
          5931.57,
          5576.32,
          4839.49,
          7555.1,
          7259.68,
          4148.41,
          2633.29,
          1064.94,
          92.86,
          0,
          0,
          0,
          0,
          0,
          0,
          0,
          0,
          0,
          0,
          0,
          1274.63,
          3983.58,
          5258,
          9358.29,
          7359.8,
          12141.2,
          11568.11,
          9367.09,
          10244.23,
          7192.59,
          2495.88,
          1587.11,
          180.57,
          0,
          0,
          0,
          0,
          0,
          0,
          0,
          0,
          0,
          0,
          0,
          2528.69,
          6867.41,
          10671.82,
          13522.47,
          15674.62,
          16745.68,
          16819.88,
          15841.62,
          13696.04,
          10559.57,
          6538.38,
          2429.1,
          237.19,
          0,
          0,
          0,
          0,
          0,
          0,
          0,
          0,
          0,
          0,
          0,
          1661.8,
          4417.81,
          6985.01,
          6708.81,
          11131.49,
          11687.39,
          12279.03,
          12828.66,
          9040.73,
          6446.29,
          6251.65,
          1622.25,
          366.12,
          0,
          0,
          0,
          0,
          0,
          0,
          0,
          0,
          0,
          0,
          0,
          1929.89,
          5563.69,
          6111.6,
          9399.53,
          11033.45,
          12875.74,
          11595.52,
          7160.39,
          5076.43,
          841.45,
          1006.18,
          745.6,
          71.02,
          0,
          0,
          0,
          0,
          0,
          0,
          0,
          0,
          0,
          0,
          0,
          1520.87,
          6193.62,
          9893.71,
          10613.4,
          14758.31,
          16396.19,
          16753.76,
          13683.41,
          10091.47,
          7716.85,
          5533.43,
          1758.31,
          254.78,
          0,
          0,
          0,
          0,
          0,
          0,
          0,
          0,
          0,
          0,
          0,
          707.65,
          3921.48,
          7496.77,
          11938.89,
          15285.77,
          16204.2,
          16531.87,
          15538.06,
          13469.32,
          10133.57,
          6815.36,
          2415.07,
          214.81,
          0,
          0,
          0,
          0,
          0,
          0,
          0,
          0,
          0,
          0,
          0,
          2545.25,
          5617.14,
          8633.97,
          13141.8,
          14330.75,
          14372.35,
          13048.14,
          9064.08,
          12623.55,
          10301.14,
          5470.43,
          1918,
          325.59,
          0,
          0,
          0,
          0,
          0,
          0,
          0,
          0,
          0,
          0,
          0,
          750.98,
          1418.08,
          4655.71,
          8866,
          13256.9,
          15736.91,
          16178.11,
          13537.01,
          11414.74,
          8517.05,
          4186.11,
          521.06,
          44.59,
          0,
          0,
          0,
          0,
          0,
          0,
          0,
          0,
          0,
          0,
          0,
          800.11,
          1313.79,
          3851.62,
          12911.97,
          12842.57,
          11468.7,
          12619.61,
          8894.25,
          4442.97,
          1852.15,
          3130.82,
          2158.67,
          128.19,
          0,
          0,
          0,
          0,
          0,
          0,
          0,
          0,
          0,
          0,
          0,
          834.19,
          4474.85,
          10234.32,
          13291.48,
          15214.25,
          16472.55,
          16635.53,
          15520.57,
          13500.22,
          10438.86,
          6531.22,
          2433.46,
          314.53,
          0,
          0,
          0,
          0,
          0,
          0,
          0,
          0,
          0,
          0,
          0,
          2317.71,
          4472.91,
          8113.28,
          13593.66,
          15213.07,
          16299.2,
          16420.86,
          15512.07,
          13472.75,
          10319.53,
          6435.15,
          2534.56,
          327.41,
          0,
          0,
          0,
          0,
          0,
          0,
          0,
          0,
          0,
          0,
          0,
          1267.18,
          4702.16,
          7705.63,
          10286.99,
          13544.02,
          12161.18,
          15050.1,
          15828.28,
          13645.94,
          10280.27,
          6555.5,
          2793.51,
          314.63,
          0,
          0,
          0,
          0,
          0,
          0,
          0,
          0,
          0,
          0,
          0,
          2784.48,
          5319.21,
          9443.19,
          12378.47,
          15960.99,
          12062.09,
          8822.56,
          8463.87,
          13155.19,
          10752.64,
          6721.03,
          2495.15,
          325.62,
          0,
          0,
          0,
          0,
          0,
          0,
          0,
          0,
          0,
          0,
          0,
          2616.04,
          6952.02,
          7491.43,
          13030.24,
          15606.72,
          16552.77,
          16635,
          15516.19,
          13487.33,
          9439.53,
          5989.42,
          2802.66,
          356.26,
          0,
          0,
          0,
          0,
          0,
          0,
          0,
          0,
          0,
          0,
          0,
          1516.15,
          4076.75,
          9269.08,
          12558.29,
          14183.84,
          16273.59,
          16424.05,
          15336.62,
          13157.93,
          10102.59,
          6359.55,
          2511.51,
          355.13,
          0,
          0,
          0,
          0,
          0,
          0,
          0,
          0,
          0,
          0,
          0,
          2477.8,
          6022.4,
          8089.01,
          12202.75,
          12853.06,
          13877.89,
          11358.42,
          13850.63,
          7801.45,
          8967.3,
          2913.33,
          1380.43,
          203.12,
          0,
          0,
          0,
          0,
          0,
          0
         ],
         "yaxis": "y"
        }
       ],
       "layout": {
        "barmode": "relative",
        "legend": {
         "tracegroupgap": 0
        },
        "template": {
         "data": {
          "bar": [
           {
            "error_x": {
             "color": "#2a3f5f"
            },
            "error_y": {
             "color": "#2a3f5f"
            },
            "marker": {
             "line": {
              "color": "#E5ECF6",
              "width": 0.5
             },
             "pattern": {
              "fillmode": "overlay",
              "size": 10,
              "solidity": 0.2
             }
            },
            "type": "bar"
           }
          ],
          "barpolar": [
           {
            "marker": {
             "line": {
              "color": "#E5ECF6",
              "width": 0.5
             },
             "pattern": {
              "fillmode": "overlay",
              "size": 10,
              "solidity": 0.2
             }
            },
            "type": "barpolar"
           }
          ],
          "carpet": [
           {
            "aaxis": {
             "endlinecolor": "#2a3f5f",
             "gridcolor": "white",
             "linecolor": "white",
             "minorgridcolor": "white",
             "startlinecolor": "#2a3f5f"
            },
            "baxis": {
             "endlinecolor": "#2a3f5f",
             "gridcolor": "white",
             "linecolor": "white",
             "minorgridcolor": "white",
             "startlinecolor": "#2a3f5f"
            },
            "type": "carpet"
           }
          ],
          "choropleth": [
           {
            "colorbar": {
             "outlinewidth": 0,
             "ticks": ""
            },
            "type": "choropleth"
           }
          ],
          "contour": [
           {
            "colorbar": {
             "outlinewidth": 0,
             "ticks": ""
            },
            "colorscale": [
             [
              0,
              "#0d0887"
             ],
             [
              0.1111111111111111,
              "#46039f"
             ],
             [
              0.2222222222222222,
              "#7201a8"
             ],
             [
              0.3333333333333333,
              "#9c179e"
             ],
             [
              0.4444444444444444,
              "#bd3786"
             ],
             [
              0.5555555555555556,
              "#d8576b"
             ],
             [
              0.6666666666666666,
              "#ed7953"
             ],
             [
              0.7777777777777778,
              "#fb9f3a"
             ],
             [
              0.8888888888888888,
              "#fdca26"
             ],
             [
              1,
              "#f0f921"
             ]
            ],
            "type": "contour"
           }
          ],
          "contourcarpet": [
           {
            "colorbar": {
             "outlinewidth": 0,
             "ticks": ""
            },
            "type": "contourcarpet"
           }
          ],
          "heatmap": [
           {
            "colorbar": {
             "outlinewidth": 0,
             "ticks": ""
            },
            "colorscale": [
             [
              0,
              "#0d0887"
             ],
             [
              0.1111111111111111,
              "#46039f"
             ],
             [
              0.2222222222222222,
              "#7201a8"
             ],
             [
              0.3333333333333333,
              "#9c179e"
             ],
             [
              0.4444444444444444,
              "#bd3786"
             ],
             [
              0.5555555555555556,
              "#d8576b"
             ],
             [
              0.6666666666666666,
              "#ed7953"
             ],
             [
              0.7777777777777778,
              "#fb9f3a"
             ],
             [
              0.8888888888888888,
              "#fdca26"
             ],
             [
              1,
              "#f0f921"
             ]
            ],
            "type": "heatmap"
           }
          ],
          "heatmapgl": [
           {
            "colorbar": {
             "outlinewidth": 0,
             "ticks": ""
            },
            "colorscale": [
             [
              0,
              "#0d0887"
             ],
             [
              0.1111111111111111,
              "#46039f"
             ],
             [
              0.2222222222222222,
              "#7201a8"
             ],
             [
              0.3333333333333333,
              "#9c179e"
             ],
             [
              0.4444444444444444,
              "#bd3786"
             ],
             [
              0.5555555555555556,
              "#d8576b"
             ],
             [
              0.6666666666666666,
              "#ed7953"
             ],
             [
              0.7777777777777778,
              "#fb9f3a"
             ],
             [
              0.8888888888888888,
              "#fdca26"
             ],
             [
              1,
              "#f0f921"
             ]
            ],
            "type": "heatmapgl"
           }
          ],
          "histogram": [
           {
            "marker": {
             "pattern": {
              "fillmode": "overlay",
              "size": 10,
              "solidity": 0.2
             }
            },
            "type": "histogram"
           }
          ],
          "histogram2d": [
           {
            "colorbar": {
             "outlinewidth": 0,
             "ticks": ""
            },
            "colorscale": [
             [
              0,
              "#0d0887"
             ],
             [
              0.1111111111111111,
              "#46039f"
             ],
             [
              0.2222222222222222,
              "#7201a8"
             ],
             [
              0.3333333333333333,
              "#9c179e"
             ],
             [
              0.4444444444444444,
              "#bd3786"
             ],
             [
              0.5555555555555556,
              "#d8576b"
             ],
             [
              0.6666666666666666,
              "#ed7953"
             ],
             [
              0.7777777777777778,
              "#fb9f3a"
             ],
             [
              0.8888888888888888,
              "#fdca26"
             ],
             [
              1,
              "#f0f921"
             ]
            ],
            "type": "histogram2d"
           }
          ],
          "histogram2dcontour": [
           {
            "colorbar": {
             "outlinewidth": 0,
             "ticks": ""
            },
            "colorscale": [
             [
              0,
              "#0d0887"
             ],
             [
              0.1111111111111111,
              "#46039f"
             ],
             [
              0.2222222222222222,
              "#7201a8"
             ],
             [
              0.3333333333333333,
              "#9c179e"
             ],
             [
              0.4444444444444444,
              "#bd3786"
             ],
             [
              0.5555555555555556,
              "#d8576b"
             ],
             [
              0.6666666666666666,
              "#ed7953"
             ],
             [
              0.7777777777777778,
              "#fb9f3a"
             ],
             [
              0.8888888888888888,
              "#fdca26"
             ],
             [
              1,
              "#f0f921"
             ]
            ],
            "type": "histogram2dcontour"
           }
          ],
          "mesh3d": [
           {
            "colorbar": {
             "outlinewidth": 0,
             "ticks": ""
            },
            "type": "mesh3d"
           }
          ],
          "parcoords": [
           {
            "line": {
             "colorbar": {
              "outlinewidth": 0,
              "ticks": ""
             }
            },
            "type": "parcoords"
           }
          ],
          "pie": [
           {
            "automargin": true,
            "type": "pie"
           }
          ],
          "scatter": [
           {
            "fillpattern": {
             "fillmode": "overlay",
             "size": 10,
             "solidity": 0.2
            },
            "type": "scatter"
           }
          ],
          "scatter3d": [
           {
            "line": {
             "colorbar": {
              "outlinewidth": 0,
              "ticks": ""
             }
            },
            "marker": {
             "colorbar": {
              "outlinewidth": 0,
              "ticks": ""
             }
            },
            "type": "scatter3d"
           }
          ],
          "scattercarpet": [
           {
            "marker": {
             "colorbar": {
              "outlinewidth": 0,
              "ticks": ""
             }
            },
            "type": "scattercarpet"
           }
          ],
          "scattergeo": [
           {
            "marker": {
             "colorbar": {
              "outlinewidth": 0,
              "ticks": ""
             }
            },
            "type": "scattergeo"
           }
          ],
          "scattergl": [
           {
            "marker": {
             "colorbar": {
              "outlinewidth": 0,
              "ticks": ""
             }
            },
            "type": "scattergl"
           }
          ],
          "scattermapbox": [
           {
            "marker": {
             "colorbar": {
              "outlinewidth": 0,
              "ticks": ""
             }
            },
            "type": "scattermapbox"
           }
          ],
          "scatterpolar": [
           {
            "marker": {
             "colorbar": {
              "outlinewidth": 0,
              "ticks": ""
             }
            },
            "type": "scatterpolar"
           }
          ],
          "scatterpolargl": [
           {
            "marker": {
             "colorbar": {
              "outlinewidth": 0,
              "ticks": ""
             }
            },
            "type": "scatterpolargl"
           }
          ],
          "scatterternary": [
           {
            "marker": {
             "colorbar": {
              "outlinewidth": 0,
              "ticks": ""
             }
            },
            "type": "scatterternary"
           }
          ],
          "surface": [
           {
            "colorbar": {
             "outlinewidth": 0,
             "ticks": ""
            },
            "colorscale": [
             [
              0,
              "#0d0887"
             ],
             [
              0.1111111111111111,
              "#46039f"
             ],
             [
              0.2222222222222222,
              "#7201a8"
             ],
             [
              0.3333333333333333,
              "#9c179e"
             ],
             [
              0.4444444444444444,
              "#bd3786"
             ],
             [
              0.5555555555555556,
              "#d8576b"
             ],
             [
              0.6666666666666666,
              "#ed7953"
             ],
             [
              0.7777777777777778,
              "#fb9f3a"
             ],
             [
              0.8888888888888888,
              "#fdca26"
             ],
             [
              1,
              "#f0f921"
             ]
            ],
            "type": "surface"
           }
          ],
          "table": [
           {
            "cells": {
             "fill": {
              "color": "#EBF0F8"
             },
             "line": {
              "color": "white"
             }
            },
            "header": {
             "fill": {
              "color": "#C8D4E3"
             },
             "line": {
              "color": "white"
             }
            },
            "type": "table"
           }
          ]
         },
         "layout": {
          "annotationdefaults": {
           "arrowcolor": "#2a3f5f",
           "arrowhead": 0,
           "arrowwidth": 1
          },
          "autotypenumbers": "strict",
          "coloraxis": {
           "colorbar": {
            "outlinewidth": 0,
            "ticks": ""
           }
          },
          "colorscale": {
           "diverging": [
            [
             0,
             "#8e0152"
            ],
            [
             0.1,
             "#c51b7d"
            ],
            [
             0.2,
             "#de77ae"
            ],
            [
             0.3,
             "#f1b6da"
            ],
            [
             0.4,
             "#fde0ef"
            ],
            [
             0.5,
             "#f7f7f7"
            ],
            [
             0.6,
             "#e6f5d0"
            ],
            [
             0.7,
             "#b8e186"
            ],
            [
             0.8,
             "#7fbc41"
            ],
            [
             0.9,
             "#4d9221"
            ],
            [
             1,
             "#276419"
            ]
           ],
           "sequential": [
            [
             0,
             "#0d0887"
            ],
            [
             0.1111111111111111,
             "#46039f"
            ],
            [
             0.2222222222222222,
             "#7201a8"
            ],
            [
             0.3333333333333333,
             "#9c179e"
            ],
            [
             0.4444444444444444,
             "#bd3786"
            ],
            [
             0.5555555555555556,
             "#d8576b"
            ],
            [
             0.6666666666666666,
             "#ed7953"
            ],
            [
             0.7777777777777778,
             "#fb9f3a"
            ],
            [
             0.8888888888888888,
             "#fdca26"
            ],
            [
             1,
             "#f0f921"
            ]
           ],
           "sequentialminus": [
            [
             0,
             "#0d0887"
            ],
            [
             0.1111111111111111,
             "#46039f"
            ],
            [
             0.2222222222222222,
             "#7201a8"
            ],
            [
             0.3333333333333333,
             "#9c179e"
            ],
            [
             0.4444444444444444,
             "#bd3786"
            ],
            [
             0.5555555555555556,
             "#d8576b"
            ],
            [
             0.6666666666666666,
             "#ed7953"
            ],
            [
             0.7777777777777778,
             "#fb9f3a"
            ],
            [
             0.8888888888888888,
             "#fdca26"
            ],
            [
             1,
             "#f0f921"
            ]
           ]
          },
          "colorway": [
           "#636efa",
           "#EF553B",
           "#00cc96",
           "#ab63fa",
           "#FFA15A",
           "#19d3f3",
           "#FF6692",
           "#B6E880",
           "#FF97FF",
           "#FECB52"
          ],
          "font": {
           "color": "#2a3f5f"
          },
          "geo": {
           "bgcolor": "white",
           "lakecolor": "white",
           "landcolor": "#E5ECF6",
           "showlakes": true,
           "showland": true,
           "subunitcolor": "white"
          },
          "hoverlabel": {
           "align": "left"
          },
          "hovermode": "closest",
          "mapbox": {
           "style": "light"
          },
          "paper_bgcolor": "white",
          "plot_bgcolor": "#E5ECF6",
          "polar": {
           "angularaxis": {
            "gridcolor": "white",
            "linecolor": "white",
            "ticks": ""
           },
           "bgcolor": "#E5ECF6",
           "radialaxis": {
            "gridcolor": "white",
            "linecolor": "white",
            "ticks": ""
           }
          },
          "scene": {
           "xaxis": {
            "backgroundcolor": "#E5ECF6",
            "gridcolor": "white",
            "gridwidth": 2,
            "linecolor": "white",
            "showbackground": true,
            "ticks": "",
            "zerolinecolor": "white"
           },
           "yaxis": {
            "backgroundcolor": "#E5ECF6",
            "gridcolor": "white",
            "gridwidth": 2,
            "linecolor": "white",
            "showbackground": true,
            "ticks": "",
            "zerolinecolor": "white"
           },
           "zaxis": {
            "backgroundcolor": "#E5ECF6",
            "gridcolor": "white",
            "gridwidth": 2,
            "linecolor": "white",
            "showbackground": true,
            "ticks": "",
            "zerolinecolor": "white"
           }
          },
          "shapedefaults": {
           "line": {
            "color": "#2a3f5f"
           }
          },
          "ternary": {
           "aaxis": {
            "gridcolor": "white",
            "linecolor": "white",
            "ticks": ""
           },
           "baxis": {
            "gridcolor": "white",
            "linecolor": "white",
            "ticks": ""
           },
           "bgcolor": "#E5ECF6",
           "caxis": {
            "gridcolor": "white",
            "linecolor": "white",
            "ticks": ""
           }
          },
          "title": {
           "x": 0.05
          },
          "xaxis": {
           "automargin": true,
           "gridcolor": "white",
           "linecolor": "white",
           "ticks": "",
           "title": {
            "standoff": 15
           },
           "zerolinecolor": "white",
           "zerolinewidth": 2
          },
          "yaxis": {
           "automargin": true,
           "gridcolor": "white",
           "linecolor": "white",
           "ticks": "",
           "title": {
            "standoff": 15
           },
           "zerolinecolor": "white",
           "zerolinewidth": 2
          }
         }
        },
        "title": {
         "text": "小時資料"
        },
        "xaxis": {
         "anchor": "y",
         "domain": [
          0,
          1
         ],
         "title": {
          "text": "Formatted Period Time"
         }
        },
        "yaxis": {
         "anchor": "x",
         "domain": [
          0,
          1
         ],
         "title": {
          "text": "發電度數kwh"
         }
        }
       }
      }
     },
     "metadata": {},
     "output_type": "display_data"
    }
   ],
   "source": [
    "print(\"Columns in df1:\", df1.columns)\n",
    "print(\"Columns in df2:\", df2.columns)\n",
    "\n",
    "merged_df = pd.merge(df2, df1, left_on='formatted_periodTime', right_on='formatted_periodTime', how='left', suffixes=('_df2', '_df1'))\n",
    "merged_df\n",
    "merged_df[\"intervalAcKwh_df2\"] = merged_df[\"intervalAcKwh_df1\"].combine_first(merged_df[\"intervalAcKwh_df2\"])\n",
    "merged_df.drop([\"intervalAcKwh_df1\"], axis=1, inplace=True)\n",
    "merged_df['intervalAcKwh_df2']\n",
    "\n",
    "import plotly.express as px\n",
    "\n",
    "fig = px.bar(merged_df, x='formatted_periodTime', y='intervalAcKwh_df2', title='小時資料')\n",
    "fig.update_xaxes(title_text='Formatted Period Time')\n",
    "fig.update_yaxes(title_text='發電度數kwh')\n",
    "fig.show()"
   ]
  },
  {
   "cell_type": "code",
   "execution_count": 173,
   "metadata": {},
   "outputs": [
    {
     "data": {
      "text/html": [
       "<div>\n",
       "<style scoped>\n",
       "    .dataframe tbody tr th:only-of-type {\n",
       "        vertical-align: middle;\n",
       "    }\n",
       "\n",
       "    .dataframe tbody tr th {\n",
       "        vertical-align: top;\n",
       "    }\n",
       "\n",
       "    .dataframe thead th {\n",
       "        text-align: right;\n",
       "    }\n",
       "</style>\n",
       "<table border=\"1\" class=\"dataframe\">\n",
       "  <thead>\n",
       "    <tr style=\"text-align: right;\">\n",
       "      <th></th>\n",
       "      <th>formatted_periodTime</th>\n",
       "      <th>intervalAcKwh_df2</th>\n",
       "    </tr>\n",
       "  </thead>\n",
       "  <tbody>\n",
       "    <tr>\n",
       "      <th>0</th>\n",
       "      <td>2023/05/01 00:00:00</td>\n",
       "      <td>0.0</td>\n",
       "    </tr>\n",
       "    <tr>\n",
       "      <th>1</th>\n",
       "      <td>2023/05/01 01:00:00</td>\n",
       "      <td>0.0</td>\n",
       "    </tr>\n",
       "    <tr>\n",
       "      <th>2</th>\n",
       "      <td>2023/05/01 02:00:00</td>\n",
       "      <td>0.0</td>\n",
       "    </tr>\n",
       "    <tr>\n",
       "      <th>3</th>\n",
       "      <td>2023/05/01 03:00:00</td>\n",
       "      <td>0.0</td>\n",
       "    </tr>\n",
       "    <tr>\n",
       "      <th>4</th>\n",
       "      <td>2023/05/01 04:00:00</td>\n",
       "      <td>0.0</td>\n",
       "    </tr>\n",
       "    <tr>\n",
       "      <th>...</th>\n",
       "      <td>...</td>\n",
       "      <td>...</td>\n",
       "    </tr>\n",
       "    <tr>\n",
       "      <th>740</th>\n",
       "      <td>2023/05/31 20:00:00</td>\n",
       "      <td>0.0</td>\n",
       "    </tr>\n",
       "    <tr>\n",
       "      <th>741</th>\n",
       "      <td>2023/05/31 21:00:00</td>\n",
       "      <td>0.0</td>\n",
       "    </tr>\n",
       "    <tr>\n",
       "      <th>742</th>\n",
       "      <td>2023/05/31 22:00:00</td>\n",
       "      <td>0.0</td>\n",
       "    </tr>\n",
       "    <tr>\n",
       "      <th>743</th>\n",
       "      <td>2023/05/31 23:00:00</td>\n",
       "      <td>0.0</td>\n",
       "    </tr>\n",
       "    <tr>\n",
       "      <th>744</th>\n",
       "      <td>2023/06/01 00:00:00</td>\n",
       "      <td>0.0</td>\n",
       "    </tr>\n",
       "  </tbody>\n",
       "</table>\n",
       "<p>745 rows × 2 columns</p>\n",
       "</div>"
      ],
      "text/plain": [
       "    formatted_periodTime  intervalAcKwh_df2\n",
       "0    2023/05/01 00:00:00                0.0\n",
       "1    2023/05/01 01:00:00                0.0\n",
       "2    2023/05/01 02:00:00                0.0\n",
       "3    2023/05/01 03:00:00                0.0\n",
       "4    2023/05/01 04:00:00                0.0\n",
       "..                   ...                ...\n",
       "740  2023/05/31 20:00:00                0.0\n",
       "741  2023/05/31 21:00:00                0.0\n",
       "742  2023/05/31 22:00:00                0.0\n",
       "743  2023/05/31 23:00:00                0.0\n",
       "744  2023/06/01 00:00:00                0.0\n",
       "\n",
       "[745 rows x 2 columns]"
      ]
     },
     "execution_count": 173,
     "metadata": {},
     "output_type": "execute_result"
    }
   ],
   "source": [
    "col = ['formatted_periodTime','intervalAcKwh_df2']\n",
    "final = merged_df[col]\n",
    "final"
   ]
  },
  {
   "cell_type": "code",
   "execution_count": null,
   "metadata": {},
   "outputs": [],
   "source": []
  }
 ],
 "metadata": {
  "kernelspec": {
   "display_name": "test-conda",
   "language": "python",
   "name": "python3"
  },
  "language_info": {
   "codemirror_mode": {
    "name": "ipython",
    "version": 3
   },
   "file_extension": ".py",
   "mimetype": "text/x-python",
   "name": "python",
   "nbconvert_exporter": "python",
   "pygments_lexer": "ipython3",
   "version": "3.8.16"
  }
 },
 "nbformat": 4,
 "nbformat_minor": 2
}
